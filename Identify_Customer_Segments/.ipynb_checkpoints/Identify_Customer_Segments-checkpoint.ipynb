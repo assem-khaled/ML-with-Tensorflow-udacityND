{
 "cells": [
  {
   "cell_type": "markdown",
   "metadata": {},
   "source": [
    "# Project: Identify Customer Segments\n",
    "\n",
    "In this project, you will apply unsupervised learning techniques to identify segments of the population that form the core customer base for a mail-order sales company in Germany. These segments can then be used to direct marketing campaigns towards audiences that will have the highest expected rate of returns. The data that you will use has been provided by our partners at Bertelsmann Arvato Analytics, and represents a real-life data science task.\n",
    "\n",
    "This notebook will help you complete this task by providing a framework within which you will perform your analysis steps. In each step of the project, you will see some text describing the subtask that you will perform, followed by one or more code cells for you to complete your work. **Feel free to add additional code and markdown cells as you go along so that you can explore everything in precise chunks.** The code cells provided in the base template will outline only the major tasks, and will usually not be enough to cover all of the minor tasks that comprise it.\n",
    "\n",
    "It should be noted that while there will be precise guidelines on how you should handle certain tasks in the project, there will also be places where an exact specification is not provided. **There will be times in the project where you will need to make and justify your own decisions on how to treat the data.** These are places where there may not be only one way to handle the data. In real-life tasks, there may be many valid ways to approach an analysis task. One of the most important things you can do is clearly document your approach so that other scientists can understand the decisions you've made.\n",
    "\n",
    "At the end of most sections, there will be a Markdown cell labeled **Discussion**. In these cells, you will report your findings for the completed section, as well as document the decisions that you made in your approach to each subtask. **Your project will be evaluated not just on the code used to complete the tasks outlined, but also your communication about your observations and conclusions at each stage.**"
   ]
  },
  {
   "cell_type": "code",
   "execution_count": 1,
   "metadata": {},
   "outputs": [
    {
     "data": {
      "text/plain": [
       "'\\nImport note: The classroom currently uses sklearn version 0.19.\\nIf you need to use an imputer, it is available in sklearn.preprocessing.Imputer,\\ninstead of sklearn.impute as in newer versions of sklearn.\\n'"
      ]
     },
     "execution_count": 1,
     "metadata": {},
     "output_type": "execute_result"
    }
   ],
   "source": [
    "# import libraries here; add more as necessary\n",
    "import numpy as np\n",
    "import pandas as pd\n",
    "import matplotlib.pyplot as plt\n",
    "import seaborn as sns\n",
    "from sklearn.preprocessing import OneHotEncoder, StandardScaler\n",
    "from sklearn.impute import SimpleImputer\n",
    "from sklearn.decomposition import PCA\n",
    "from sklearn.cluster import KMeans\n",
    "import time\n",
    "\n",
    "# magic word for producing visualizations in notebook\n",
    "%matplotlib inline\n",
    "\n",
    "'''\n",
    "Import note: The classroom currently uses sklearn version 0.19.\n",
    "If you need to use an imputer, it is available in sklearn.preprocessing.Imputer,\n",
    "instead of sklearn.impute as in newer versions of sklearn.\n",
    "'''"
   ]
  },
  {
   "cell_type": "markdown",
   "metadata": {},
   "source": [
    "### Step 0: Load the Data\n",
    "\n",
    "There are four files associated with this project (not including this one):\n",
    "\n",
    "- `Udacity_AZDIAS_Subset.csv`: Demographics data for the general population of Germany; 891211 persons (rows) x 85 features (columns).\n",
    "- `Udacity_CUSTOMERS_Subset.csv`: Demographics data for customers of a mail-order company; 191652 persons (rows) x 85 features (columns).\n",
    "- `Data_Dictionary.md`: Detailed information file about the features in the provided datasets.\n",
    "- `AZDIAS_Feature_Summary.csv`: Summary of feature attributes for demographics data; 85 features (rows) x 4 columns\n",
    "\n",
    "Each row of the demographics files represents a single person, but also includes information outside of individuals, including information about their household, building, and neighborhood. You will use this information to cluster the general population into groups with similar demographic properties. Then, you will see how the people in the customers dataset fit into those created clusters. The hope here is that certain clusters are over-represented in the customers data, as compared to the general population; those over-represented clusters will be assumed to be part of the core userbase. This information can then be used for further applications, such as targeting for a marketing campaign.\n",
    "\n",
    "To start off with, load in the demographics data for the general population into a pandas DataFrame, and do the same for the feature attributes summary. Note for all of the `.csv` data files in this project: they're semicolon (`;`) delimited, so you'll need an additional argument in your [`read_csv()`](https://pandas.pydata.org/pandas-docs/stable/generated/pandas.read_csv.html) call to read in the data properly. Also, considering the size of the main dataset, it may take some time for it to load completely.\n",
    "\n",
    "Once the dataset is loaded, it's recommended that you take a little bit of time just browsing the general structure of the dataset and feature summary file. You'll be getting deep into the innards of the cleaning in the first major step of the project, so gaining some general familiarity can help you get your bearings."
   ]
  },
  {
   "cell_type": "code",
   "execution_count": 2,
   "metadata": {},
   "outputs": [],
   "source": [
    "# Load in the general demographics data.\n",
    "azdias = pd.read_csv('Udacity_AZDIAS_Subset.csv', sep=';')\n",
    "\n",
    "# Load in the feature summary file.\n",
    "feat_info = pd.read_csv('AZDIAS_Feature_Summary.csv', sep=';')"
   ]
  },
  {
   "cell_type": "code",
   "execution_count": 3,
   "metadata": {
    "collapsed": true
   },
   "outputs": [
    {
     "name": "stdout",
     "output_type": "stream",
     "text": [
      "<class 'pandas.core.frame.DataFrame'>\n",
      "RangeIndex: 891221 entries, 0 to 891220\n",
      "Data columns (total 85 columns):\n",
      " #   Column                 Non-Null Count   Dtype  \n",
      "---  ------                 --------------   -----  \n",
      " 0   AGER_TYP               891221 non-null  int64  \n",
      " 1   ALTERSKATEGORIE_GROB   891221 non-null  int64  \n",
      " 2   ANREDE_KZ              891221 non-null  int64  \n",
      " 3   CJT_GESAMTTYP          886367 non-null  float64\n",
      " 4   FINANZ_MINIMALIST      891221 non-null  int64  \n",
      " 5   FINANZ_SPARER          891221 non-null  int64  \n",
      " 6   FINANZ_VORSORGER       891221 non-null  int64  \n",
      " 7   FINANZ_ANLEGER         891221 non-null  int64  \n",
      " 8   FINANZ_UNAUFFAELLIGER  891221 non-null  int64  \n",
      " 9   FINANZ_HAUSBAUER       891221 non-null  int64  \n",
      " 10  FINANZTYP              891221 non-null  int64  \n",
      " 11  GEBURTSJAHR            891221 non-null  int64  \n",
      " 12  GFK_URLAUBERTYP        886367 non-null  float64\n",
      " 13  GREEN_AVANTGARDE       891221 non-null  int64  \n",
      " 14  HEALTH_TYP             891221 non-null  int64  \n",
      " 15  LP_LEBENSPHASE_FEIN    886367 non-null  float64\n",
      " 16  LP_LEBENSPHASE_GROB    886367 non-null  float64\n",
      " 17  LP_FAMILIE_FEIN        886367 non-null  float64\n",
      " 18  LP_FAMILIE_GROB        886367 non-null  float64\n",
      " 19  LP_STATUS_FEIN         886367 non-null  float64\n",
      " 20  LP_STATUS_GROB         886367 non-null  float64\n",
      " 21  NATIONALITAET_KZ       891221 non-null  int64  \n",
      " 22  PRAEGENDE_JUGENDJAHRE  891221 non-null  int64  \n",
      " 23  RETOURTYP_BK_S         886367 non-null  float64\n",
      " 24  SEMIO_SOZ              891221 non-null  int64  \n",
      " 25  SEMIO_FAM              891221 non-null  int64  \n",
      " 26  SEMIO_REL              891221 non-null  int64  \n",
      " 27  SEMIO_MAT              891221 non-null  int64  \n",
      " 28  SEMIO_VERT             891221 non-null  int64  \n",
      " 29  SEMIO_LUST             891221 non-null  int64  \n",
      " 30  SEMIO_ERL              891221 non-null  int64  \n",
      " 31  SEMIO_KULT             891221 non-null  int64  \n",
      " 32  SEMIO_RAT              891221 non-null  int64  \n",
      " 33  SEMIO_KRIT             891221 non-null  int64  \n",
      " 34  SEMIO_DOM              891221 non-null  int64  \n",
      " 35  SEMIO_KAEM             891221 non-null  int64  \n",
      " 36  SEMIO_PFLICHT          891221 non-null  int64  \n",
      " 37  SEMIO_TRADV            891221 non-null  int64  \n",
      " 38  SHOPPER_TYP            891221 non-null  int64  \n",
      " 39  SOHO_KZ                817722 non-null  float64\n",
      " 40  TITEL_KZ               817722 non-null  float64\n",
      " 41  VERS_TYP               891221 non-null  int64  \n",
      " 42  ZABEOTYP               891221 non-null  int64  \n",
      " 43  ALTER_HH               817722 non-null  float64\n",
      " 44  ANZ_PERSONEN           817722 non-null  float64\n",
      " 45  ANZ_TITEL              817722 non-null  float64\n",
      " 46  HH_EINKOMMEN_SCORE     872873 non-null  float64\n",
      " 47  KK_KUNDENTYP           306609 non-null  float64\n",
      " 48  W_KEIT_KIND_HH         783619 non-null  float64\n",
      " 49  WOHNDAUER_2008         817722 non-null  float64\n",
      " 50  ANZ_HAUSHALTE_AKTIV    798073 non-null  float64\n",
      " 51  ANZ_HH_TITEL           794213 non-null  float64\n",
      " 52  GEBAEUDETYP            798073 non-null  float64\n",
      " 53  KONSUMNAEHE            817252 non-null  float64\n",
      " 54  MIN_GEBAEUDEJAHR       798073 non-null  float64\n",
      " 55  OST_WEST_KZ            798073 non-null  object \n",
      " 56  WOHNLAGE               798073 non-null  float64\n",
      " 57  CAMEO_DEUG_2015        792242 non-null  object \n",
      " 58  CAMEO_DEU_2015         792242 non-null  object \n",
      " 59  CAMEO_INTL_2015        792242 non-null  object \n",
      " 60  KBA05_ANTG1            757897 non-null  float64\n",
      " 61  KBA05_ANTG2            757897 non-null  float64\n",
      " 62  KBA05_ANTG3            757897 non-null  float64\n",
      " 63  KBA05_ANTG4            757897 non-null  float64\n",
      " 64  KBA05_BAUMAX           757897 non-null  float64\n",
      " 65  KBA05_GBZ              757897 non-null  float64\n",
      " 66  BALLRAUM               797481 non-null  float64\n",
      " 67  EWDICHTE               797481 non-null  float64\n",
      " 68  INNENSTADT             797481 non-null  float64\n",
      " 69  GEBAEUDETYP_RASTER     798066 non-null  float64\n",
      " 70  KKK                    770025 non-null  float64\n",
      " 71  MOBI_REGIO             757897 non-null  float64\n",
      " 72  ONLINE_AFFINITAET      886367 non-null  float64\n",
      " 73  REGIOTYP               770025 non-null  float64\n",
      " 74  KBA13_ANZAHL_PKW       785421 non-null  float64\n",
      " 75  PLZ8_ANTG1             774706 non-null  float64\n",
      " 76  PLZ8_ANTG2             774706 non-null  float64\n",
      " 77  PLZ8_ANTG3             774706 non-null  float64\n",
      " 78  PLZ8_ANTG4             774706 non-null  float64\n",
      " 79  PLZ8_BAUMAX            774706 non-null  float64\n",
      " 80  PLZ8_HHZ               774706 non-null  float64\n",
      " 81  PLZ8_GBZ               774706 non-null  float64\n",
      " 82  ARBEIT                 794005 non-null  float64\n",
      " 83  ORTSGR_KLS9            794005 non-null  float64\n",
      " 84  RELAT_AB               794005 non-null  float64\n",
      "dtypes: float64(49), int64(32), object(4)\n",
      "memory usage: 578.0+ MB\n"
     ]
    }
   ],
   "source": [
    "# Check the structure of the data after it's loaded (e.g. print the number of\n",
    "# rows and columns, print the first few rows).\n",
    "azdias.info()"
   ]
  },
  {
   "cell_type": "code",
   "execution_count": 4,
   "metadata": {},
   "outputs": [
    {
     "data": {
      "text/plain": [
       "(891221, 85)"
      ]
     },
     "execution_count": 4,
     "metadata": {},
     "output_type": "execute_result"
    }
   ],
   "source": [
    "azdias.shape"
   ]
  },
  {
   "cell_type": "code",
   "execution_count": 5,
   "metadata": {},
   "outputs": [
    {
     "data": {
      "text/html": [
       "<div>\n",
       "<style scoped>\n",
       "    .dataframe tbody tr th:only-of-type {\n",
       "        vertical-align: middle;\n",
       "    }\n",
       "\n",
       "    .dataframe tbody tr th {\n",
       "        vertical-align: top;\n",
       "    }\n",
       "\n",
       "    .dataframe thead th {\n",
       "        text-align: right;\n",
       "    }\n",
       "</style>\n",
       "<table border=\"1\" class=\"dataframe\">\n",
       "  <thead>\n",
       "    <tr style=\"text-align: right;\">\n",
       "      <th></th>\n",
       "      <th>AGER_TYP</th>\n",
       "      <th>ALTERSKATEGORIE_GROB</th>\n",
       "      <th>ANREDE_KZ</th>\n",
       "      <th>CJT_GESAMTTYP</th>\n",
       "      <th>FINANZ_MINIMALIST</th>\n",
       "      <th>FINANZ_SPARER</th>\n",
       "      <th>FINANZ_VORSORGER</th>\n",
       "      <th>FINANZ_ANLEGER</th>\n",
       "      <th>FINANZ_UNAUFFAELLIGER</th>\n",
       "      <th>FINANZ_HAUSBAUER</th>\n",
       "      <th>...</th>\n",
       "      <th>PLZ8_ANTG1</th>\n",
       "      <th>PLZ8_ANTG2</th>\n",
       "      <th>PLZ8_ANTG3</th>\n",
       "      <th>PLZ8_ANTG4</th>\n",
       "      <th>PLZ8_BAUMAX</th>\n",
       "      <th>PLZ8_HHZ</th>\n",
       "      <th>PLZ8_GBZ</th>\n",
       "      <th>ARBEIT</th>\n",
       "      <th>ORTSGR_KLS9</th>\n",
       "      <th>RELAT_AB</th>\n",
       "    </tr>\n",
       "  </thead>\n",
       "  <tbody>\n",
       "    <tr>\n",
       "      <th>count</th>\n",
       "      <td>891221.000000</td>\n",
       "      <td>891221.000000</td>\n",
       "      <td>891221.000000</td>\n",
       "      <td>886367.000000</td>\n",
       "      <td>891221.000000</td>\n",
       "      <td>891221.000000</td>\n",
       "      <td>891221.000000</td>\n",
       "      <td>891221.000000</td>\n",
       "      <td>891221.000000</td>\n",
       "      <td>891221.000000</td>\n",
       "      <td>...</td>\n",
       "      <td>774706.000000</td>\n",
       "      <td>774706.000000</td>\n",
       "      <td>774706.000000</td>\n",
       "      <td>774706.000000</td>\n",
       "      <td>774706.000000</td>\n",
       "      <td>774706.000000</td>\n",
       "      <td>774706.000000</td>\n",
       "      <td>794005.000000</td>\n",
       "      <td>794005.000000</td>\n",
       "      <td>794005.00000</td>\n",
       "    </tr>\n",
       "    <tr>\n",
       "      <th>mean</th>\n",
       "      <td>-0.358435</td>\n",
       "      <td>2.777398</td>\n",
       "      <td>1.522098</td>\n",
       "      <td>3.632838</td>\n",
       "      <td>3.074528</td>\n",
       "      <td>2.821039</td>\n",
       "      <td>3.401106</td>\n",
       "      <td>3.033328</td>\n",
       "      <td>2.874167</td>\n",
       "      <td>3.075121</td>\n",
       "      <td>...</td>\n",
       "      <td>2.253330</td>\n",
       "      <td>2.801858</td>\n",
       "      <td>1.595426</td>\n",
       "      <td>0.699166</td>\n",
       "      <td>1.943913</td>\n",
       "      <td>3.612821</td>\n",
       "      <td>3.381087</td>\n",
       "      <td>3.167854</td>\n",
       "      <td>5.293002</td>\n",
       "      <td>3.07222</td>\n",
       "    </tr>\n",
       "    <tr>\n",
       "      <th>std</th>\n",
       "      <td>1.198724</td>\n",
       "      <td>1.068775</td>\n",
       "      <td>0.499512</td>\n",
       "      <td>1.595021</td>\n",
       "      <td>1.321055</td>\n",
       "      <td>1.464749</td>\n",
       "      <td>1.322134</td>\n",
       "      <td>1.529603</td>\n",
       "      <td>1.486731</td>\n",
       "      <td>1.353248</td>\n",
       "      <td>...</td>\n",
       "      <td>0.972008</td>\n",
       "      <td>0.920309</td>\n",
       "      <td>0.986736</td>\n",
       "      <td>0.727137</td>\n",
       "      <td>1.459654</td>\n",
       "      <td>0.973967</td>\n",
       "      <td>1.111598</td>\n",
       "      <td>1.002376</td>\n",
       "      <td>2.303739</td>\n",
       "      <td>1.36298</td>\n",
       "    </tr>\n",
       "    <tr>\n",
       "      <th>min</th>\n",
       "      <td>-1.000000</td>\n",
       "      <td>1.000000</td>\n",
       "      <td>1.000000</td>\n",
       "      <td>1.000000</td>\n",
       "      <td>1.000000</td>\n",
       "      <td>1.000000</td>\n",
       "      <td>1.000000</td>\n",
       "      <td>1.000000</td>\n",
       "      <td>1.000000</td>\n",
       "      <td>1.000000</td>\n",
       "      <td>...</td>\n",
       "      <td>0.000000</td>\n",
       "      <td>0.000000</td>\n",
       "      <td>0.000000</td>\n",
       "      <td>0.000000</td>\n",
       "      <td>1.000000</td>\n",
       "      <td>1.000000</td>\n",
       "      <td>1.000000</td>\n",
       "      <td>1.000000</td>\n",
       "      <td>0.000000</td>\n",
       "      <td>1.00000</td>\n",
       "    </tr>\n",
       "    <tr>\n",
       "      <th>25%</th>\n",
       "      <td>-1.000000</td>\n",
       "      <td>2.000000</td>\n",
       "      <td>1.000000</td>\n",
       "      <td>2.000000</td>\n",
       "      <td>2.000000</td>\n",
       "      <td>1.000000</td>\n",
       "      <td>3.000000</td>\n",
       "      <td>2.000000</td>\n",
       "      <td>2.000000</td>\n",
       "      <td>2.000000</td>\n",
       "      <td>...</td>\n",
       "      <td>1.000000</td>\n",
       "      <td>2.000000</td>\n",
       "      <td>1.000000</td>\n",
       "      <td>0.000000</td>\n",
       "      <td>1.000000</td>\n",
       "      <td>3.000000</td>\n",
       "      <td>3.000000</td>\n",
       "      <td>3.000000</td>\n",
       "      <td>4.000000</td>\n",
       "      <td>2.00000</td>\n",
       "    </tr>\n",
       "    <tr>\n",
       "      <th>50%</th>\n",
       "      <td>-1.000000</td>\n",
       "      <td>3.000000</td>\n",
       "      <td>2.000000</td>\n",
       "      <td>4.000000</td>\n",
       "      <td>3.000000</td>\n",
       "      <td>3.000000</td>\n",
       "      <td>3.000000</td>\n",
       "      <td>3.000000</td>\n",
       "      <td>3.000000</td>\n",
       "      <td>3.000000</td>\n",
       "      <td>...</td>\n",
       "      <td>2.000000</td>\n",
       "      <td>3.000000</td>\n",
       "      <td>2.000000</td>\n",
       "      <td>1.000000</td>\n",
       "      <td>1.000000</td>\n",
       "      <td>4.000000</td>\n",
       "      <td>3.000000</td>\n",
       "      <td>3.000000</td>\n",
       "      <td>5.000000</td>\n",
       "      <td>3.00000</td>\n",
       "    </tr>\n",
       "    <tr>\n",
       "      <th>75%</th>\n",
       "      <td>-1.000000</td>\n",
       "      <td>4.000000</td>\n",
       "      <td>2.000000</td>\n",
       "      <td>5.000000</td>\n",
       "      <td>4.000000</td>\n",
       "      <td>4.000000</td>\n",
       "      <td>5.000000</td>\n",
       "      <td>5.000000</td>\n",
       "      <td>4.000000</td>\n",
       "      <td>4.000000</td>\n",
       "      <td>...</td>\n",
       "      <td>3.000000</td>\n",
       "      <td>3.000000</td>\n",
       "      <td>2.000000</td>\n",
       "      <td>1.000000</td>\n",
       "      <td>3.000000</td>\n",
       "      <td>4.000000</td>\n",
       "      <td>4.000000</td>\n",
       "      <td>4.000000</td>\n",
       "      <td>7.000000</td>\n",
       "      <td>4.00000</td>\n",
       "    </tr>\n",
       "    <tr>\n",
       "      <th>max</th>\n",
       "      <td>3.000000</td>\n",
       "      <td>9.000000</td>\n",
       "      <td>2.000000</td>\n",
       "      <td>6.000000</td>\n",
       "      <td>5.000000</td>\n",
       "      <td>5.000000</td>\n",
       "      <td>5.000000</td>\n",
       "      <td>5.000000</td>\n",
       "      <td>5.000000</td>\n",
       "      <td>5.000000</td>\n",
       "      <td>...</td>\n",
       "      <td>4.000000</td>\n",
       "      <td>4.000000</td>\n",
       "      <td>3.000000</td>\n",
       "      <td>2.000000</td>\n",
       "      <td>5.000000</td>\n",
       "      <td>5.000000</td>\n",
       "      <td>5.000000</td>\n",
       "      <td>9.000000</td>\n",
       "      <td>9.000000</td>\n",
       "      <td>9.00000</td>\n",
       "    </tr>\n",
       "  </tbody>\n",
       "</table>\n",
       "<p>8 rows × 81 columns</p>\n",
       "</div>"
      ],
      "text/plain": [
       "            AGER_TYP  ALTERSKATEGORIE_GROB      ANREDE_KZ  CJT_GESAMTTYP  \\\n",
       "count  891221.000000         891221.000000  891221.000000  886367.000000   \n",
       "mean       -0.358435              2.777398       1.522098       3.632838   \n",
       "std         1.198724              1.068775       0.499512       1.595021   \n",
       "min        -1.000000              1.000000       1.000000       1.000000   \n",
       "25%        -1.000000              2.000000       1.000000       2.000000   \n",
       "50%        -1.000000              3.000000       2.000000       4.000000   \n",
       "75%        -1.000000              4.000000       2.000000       5.000000   \n",
       "max         3.000000              9.000000       2.000000       6.000000   \n",
       "\n",
       "       FINANZ_MINIMALIST  FINANZ_SPARER  FINANZ_VORSORGER  FINANZ_ANLEGER  \\\n",
       "count      891221.000000  891221.000000     891221.000000   891221.000000   \n",
       "mean            3.074528       2.821039          3.401106        3.033328   \n",
       "std             1.321055       1.464749          1.322134        1.529603   \n",
       "min             1.000000       1.000000          1.000000        1.000000   \n",
       "25%             2.000000       1.000000          3.000000        2.000000   \n",
       "50%             3.000000       3.000000          3.000000        3.000000   \n",
       "75%             4.000000       4.000000          5.000000        5.000000   \n",
       "max             5.000000       5.000000          5.000000        5.000000   \n",
       "\n",
       "       FINANZ_UNAUFFAELLIGER  FINANZ_HAUSBAUER  ...     PLZ8_ANTG1  \\\n",
       "count          891221.000000     891221.000000  ...  774706.000000   \n",
       "mean                2.874167          3.075121  ...       2.253330   \n",
       "std                 1.486731          1.353248  ...       0.972008   \n",
       "min                 1.000000          1.000000  ...       0.000000   \n",
       "25%                 2.000000          2.000000  ...       1.000000   \n",
       "50%                 3.000000          3.000000  ...       2.000000   \n",
       "75%                 4.000000          4.000000  ...       3.000000   \n",
       "max                 5.000000          5.000000  ...       4.000000   \n",
       "\n",
       "          PLZ8_ANTG2     PLZ8_ANTG3     PLZ8_ANTG4    PLZ8_BAUMAX  \\\n",
       "count  774706.000000  774706.000000  774706.000000  774706.000000   \n",
       "mean        2.801858       1.595426       0.699166       1.943913   \n",
       "std         0.920309       0.986736       0.727137       1.459654   \n",
       "min         0.000000       0.000000       0.000000       1.000000   \n",
       "25%         2.000000       1.000000       0.000000       1.000000   \n",
       "50%         3.000000       2.000000       1.000000       1.000000   \n",
       "75%         3.000000       2.000000       1.000000       3.000000   \n",
       "max         4.000000       3.000000       2.000000       5.000000   \n",
       "\n",
       "            PLZ8_HHZ       PLZ8_GBZ         ARBEIT    ORTSGR_KLS9  \\\n",
       "count  774706.000000  774706.000000  794005.000000  794005.000000   \n",
       "mean        3.612821       3.381087       3.167854       5.293002   \n",
       "std         0.973967       1.111598       1.002376       2.303739   \n",
       "min         1.000000       1.000000       1.000000       0.000000   \n",
       "25%         3.000000       3.000000       3.000000       4.000000   \n",
       "50%         4.000000       3.000000       3.000000       5.000000   \n",
       "75%         4.000000       4.000000       4.000000       7.000000   \n",
       "max         5.000000       5.000000       9.000000       9.000000   \n",
       "\n",
       "           RELAT_AB  \n",
       "count  794005.00000  \n",
       "mean        3.07222  \n",
       "std         1.36298  \n",
       "min         1.00000  \n",
       "25%         2.00000  \n",
       "50%         3.00000  \n",
       "75%         4.00000  \n",
       "max         9.00000  \n",
       "\n",
       "[8 rows x 81 columns]"
      ]
     },
     "execution_count": 5,
     "metadata": {},
     "output_type": "execute_result"
    }
   ],
   "source": [
    "azdias.describe()"
   ]
  },
  {
   "cell_type": "code",
   "execution_count": 6,
   "metadata": {},
   "outputs": [
    {
     "data": {
      "text/plain": [
       "AGER_TYP                1.524308\n",
       "ALTERSKATEGORIE_GROB    0.219638\n",
       "ANREDE_KZ              -0.088480\n",
       "CJT_GESAMTTYP          -0.038885\n",
       "FINANZ_MINIMALIST      -0.051610\n",
       "                          ...   \n",
       "PLZ8_HHZ               -0.091378\n",
       "PLZ8_GBZ               -0.152570\n",
       "ARBEIT                 -0.461291\n",
       "ORTSGR_KLS9            -0.008313\n",
       "RELAT_AB               -0.018307\n",
       "Length: 81, dtype: float64"
      ]
     },
     "execution_count": 6,
     "metadata": {},
     "output_type": "execute_result"
    }
   ],
   "source": [
    "azdias.skew()"
   ]
  },
  {
   "cell_type": "code",
   "execution_count": 7,
   "metadata": {},
   "outputs": [
    {
     "name": "stdout",
     "output_type": "stream",
     "text": [
      "Number of Missing Values:  4896838\n",
      "Number of columns that contains missing values:  53\n",
      "Number of rows that contains missing values:  628074\n"
     ]
    }
   ],
   "source": [
    "print('Number of Missing Values: ',azdias.isnull().sum().sum())\n",
    "print('Number of columns that contains missing values: ',azdias.isnull().any().sum())\n",
    "print('Number of rows that contains missing values: ',azdias.isnull().any(axis=1).sum())"
   ]
  },
  {
   "cell_type": "markdown",
   "metadata": {},
   "source": [
    "> **Tip**: Add additional cells to keep everything in reasonably-sized chunks! Keyboard shortcut `esc --> a` (press escape to enter command mode, then press the 'A' key) adds a new cell before the active cell, and `esc --> b` adds a new cell after the active cell. If you need to convert an active cell to a markdown cell, use `esc --> m` and to convert to a code cell, use `esc --> y`. \n",
    "\n",
    "## Step 1: Preprocessing\n",
    "\n",
    "### Step 1.1: Assess Missing Data\n",
    "\n",
    "The feature summary file contains a summary of properties for each demographics data column. You will use this file to help you make cleaning decisions during this stage of the project. First of all, you should assess the demographics data in terms of missing data. Pay attention to the following points as you perform your analysis, and take notes on what you observe. Make sure that you fill in the **Discussion** cell with your findings and decisions at the end of each step that has one!\n",
    "\n",
    "#### Step 1.1.1: Convert Missing Value Codes to NaNs\n",
    "The fourth column of the feature attributes summary (loaded in above as `feat_info`) documents the codes from the data dictionary that indicate missing or unknown data. While the file encodes this as a list (e.g. `[-1,0]`), this will get read in as a string object. You'll need to do a little bit of parsing to make use of it to identify and clean the data. Convert data that matches a 'missing' or 'unknown' value code into a numpy NaN value. You might want to see how much data takes on a 'missing' or 'unknown' code, and how much data is naturally missing, as a point of interest.\n",
    "\n",
    "**As one more reminder, you are encouraged to add additional cells to break up your analysis into manageable chunks.**"
   ]
  },
  {
   "cell_type": "code",
   "execution_count": 8,
   "metadata": {
    "scrolled": true
   },
   "outputs": [
    {
     "name": "stdout",
     "output_type": "stream",
     "text": [
      "(85, 4)\n"
     ]
    },
    {
     "data": {
      "text/html": [
       "<div>\n",
       "<style scoped>\n",
       "    .dataframe tbody tr th:only-of-type {\n",
       "        vertical-align: middle;\n",
       "    }\n",
       "\n",
       "    .dataframe tbody tr th {\n",
       "        vertical-align: top;\n",
       "    }\n",
       "\n",
       "    .dataframe thead th {\n",
       "        text-align: right;\n",
       "    }\n",
       "</style>\n",
       "<table border=\"1\" class=\"dataframe\">\n",
       "  <thead>\n",
       "    <tr style=\"text-align: right;\">\n",
       "      <th></th>\n",
       "      <th>attribute</th>\n",
       "      <th>information_level</th>\n",
       "      <th>type</th>\n",
       "      <th>missing_or_unknown</th>\n",
       "    </tr>\n",
       "  </thead>\n",
       "  <tbody>\n",
       "    <tr>\n",
       "      <th>0</th>\n",
       "      <td>AGER_TYP</td>\n",
       "      <td>person</td>\n",
       "      <td>categorical</td>\n",
       "      <td>[-1,0]</td>\n",
       "    </tr>\n",
       "    <tr>\n",
       "      <th>1</th>\n",
       "      <td>ALTERSKATEGORIE_GROB</td>\n",
       "      <td>person</td>\n",
       "      <td>ordinal</td>\n",
       "      <td>[-1,0,9]</td>\n",
       "    </tr>\n",
       "    <tr>\n",
       "      <th>2</th>\n",
       "      <td>ANREDE_KZ</td>\n",
       "      <td>person</td>\n",
       "      <td>categorical</td>\n",
       "      <td>[-1,0]</td>\n",
       "    </tr>\n",
       "    <tr>\n",
       "      <th>3</th>\n",
       "      <td>CJT_GESAMTTYP</td>\n",
       "      <td>person</td>\n",
       "      <td>categorical</td>\n",
       "      <td>[0]</td>\n",
       "    </tr>\n",
       "    <tr>\n",
       "      <th>4</th>\n",
       "      <td>FINANZ_MINIMALIST</td>\n",
       "      <td>person</td>\n",
       "      <td>ordinal</td>\n",
       "      <td>[-1]</td>\n",
       "    </tr>\n",
       "  </tbody>\n",
       "</table>\n",
       "</div>"
      ],
      "text/plain": [
       "              attribute information_level         type missing_or_unknown\n",
       "0              AGER_TYP            person  categorical             [-1,0]\n",
       "1  ALTERSKATEGORIE_GROB            person      ordinal           [-1,0,9]\n",
       "2             ANREDE_KZ            person  categorical             [-1,0]\n",
       "3         CJT_GESAMTTYP            person  categorical                [0]\n",
       "4     FINANZ_MINIMALIST            person      ordinal               [-1]"
      ]
     },
     "execution_count": 8,
     "metadata": {},
     "output_type": "execute_result"
    }
   ],
   "source": [
    "# Identify missing or unknown data values and convert them to NaNs.\n",
    "print(feat_info.shape)\n",
    "feat_info.head()"
   ]
  },
  {
   "cell_type": "code",
   "execution_count": 9,
   "metadata": {},
   "outputs": [
    {
     "name": "stdout",
     "output_type": "stream",
     "text": [
      "Number of Missing Values:  8373929\n"
     ]
    }
   ],
   "source": [
    "for index in range(feat_info.shape[0]):\n",
    "    try:\n",
    "        if len(eval(feat_info['missing_or_unknown'][index])) == 0:\n",
    "            continue\n",
    "        azdias[feat_info['attribute'][index]] = azdias[feat_info['attribute'][index]].replace(eval(feat_info['missing_or_unknown'][index]), np.nan)\n",
    "    except:\n",
    "        lis = feat_info['missing_or_unknown'][index].strip('[').strip(']').split(',')\n",
    "        for i in lis:\n",
    "            try:\n",
    "                temp = int(i)\n",
    "                azdias[feat_info['attribute'][index]] = azdias[feat_info['attribute'][index]].replace(temp, np.nan)\n",
    "            except:\n",
    "                azdias[feat_info['attribute'][index]] = azdias[feat_info['attribute'][index]].replace(i, np.nan)\n",
    "\n",
    "print('Number of Missing Values: ', azdias.isnull().sum().sum())"
   ]
  },
  {
   "cell_type": "markdown",
   "metadata": {},
   "source": [
    "#### Step 1.1.2: Assess Missing Data in Each Column\n",
    "\n",
    "How much missing data is present in each column? There are a few columns that are outliers in terms of the proportion of values that are missing. You will want to use matplotlib's [`hist()`](https://matplotlib.org/api/_as_gen/matplotlib.pyplot.hist.html) function to visualize the distribution of missing value counts to find these columns. Identify and document these columns. While some of these columns might have justifications for keeping or re-encoding the data, for this project you should just remove them from the dataframe. (Feel free to make remarks about these outlier columns in the discussion, however!)\n",
    "\n",
    "For the remaining features, are there any patterns in which columns have, or share, missing data?"
   ]
  },
  {
   "cell_type": "code",
   "execution_count": 10,
   "metadata": {},
   "outputs": [
    {
     "data": {
      "image/png": "[encoded data removed]",
      "text/plain": [
       "<Figure size 432x288 with 1 Axes>"
      ]
     },
     "metadata": {
      "needs_background": "light"
     },
     "output_type": "display_data"
    }
   ],
   "source": [
    "# Perform an assessment of how much missing data there is in each column of the\n",
    "# dataset.\n",
    "\n",
    "missing_columns_num = azdias.isnull().sum()\n",
    "\n",
    "plt.hist(missing_columns_num, bins=50)\n",
    "plt.ylabel('Columns')\n",
    "plt.xlabel('Missing Values')\n",
    "plt.title(\"Histogram representing the count of missing values in columns\")\n",
    "plt.show()"
   ]
  },
  {
   "cell_type": "code",
   "execution_count": 11,
   "metadata": {},
   "outputs": [
    {
     "name": "stdout",
     "output_type": "stream",
     "text": [
      "(891221, 85)\n",
      "Number of outliers we will drop:  6\n"
     ]
    },
    {
     "data": {
      "text/plain": [
       "Index(['AGER_TYP', 'GEBURTSJAHR', 'TITEL_KZ', 'ALTER_HH', 'KK_KUNDENTYP',\n",
       "       'KBA05_BAUMAX'],\n",
       "      dtype='object')"
      ]
     },
     "execution_count": 11,
     "metadata": {},
     "output_type": "execute_result"
    }
   ],
   "source": [
    "# Investigate patterns in the amount of missing data in each column.\n",
    "print(azdias.shape)\n",
    "outliers = missing_columns_num > (200000)\n",
    "print('Number of outliers we will drop: ', outliers.sum())\n",
    "outliers[outliers].index"
   ]
  },
  {
   "cell_type": "code",
   "execution_count": 12,
   "metadata": {},
   "outputs": [
    {
     "name": "stdout",
     "output_type": "stream",
     "text": [
      "Shape After droping 6 columns:  (891221, 79)\n",
      "Number of Missing Values:  5035304\n"
     ]
    }
   ],
   "source": [
    "# Remove the outlier columns from the dataset. (You'll perform other data\n",
    "# engineering tasks such as re-encoding and imputation later.)\n",
    "azdias_drop = azdias.drop(outliers[outliers].index, axis = 1)\n",
    "print('Shape After droping 6 columns: ', azdias_drop.shape)\n",
    "print('Number of Missing Values: ', azdias_drop.isnull().sum().sum())"
   ]
  },
  {
   "cell_type": "markdown",
   "metadata": {},
   "source": [
    "#### Discussion 1.1.2: Assess Missing Data in Each Column\n",
    "\n",
    "\n",
    "- In the dataset there are 85 columns   \n",
    "- 61 columns contains missing or unknown values   \n",
    "- 6 columns contains more than 200,000 missing values or unknown values(25% of the data in the column), so we will remove these 6 columns ['AGER_TYP', 'GEBURTSJAHR', 'TITEL_KZ', 'ALTER_HH', 'KK_KUNDENTYP', 'KBA05_BAUMAX']"
   ]
  },
  {
   "cell_type": "markdown",
   "metadata": {},
   "source": [
    "#### Step 1.1.3: Assess Missing Data in Each Row\n",
    "\n",
    "Now, you'll perform a similar assessment for the rows of the dataset. How much data is missing in each row? As with the columns, you should see some groups of points that have a very different numbers of missing values. Divide the data into two subsets: one for data points that are above some threshold for missing values, and a second subset for points below that threshold.\n",
    "\n",
    "In order to know what to do with the outlier rows, we should see if the distribution of data values on columns that are not missing data (or are missing very little data) are similar or different between the two groups. Select at least five of these columns and compare the distribution of values.\n",
    "- You can use seaborn's [`countplot()`](https://seaborn.pydata.org/generated/seaborn.countplot.html) function to create a bar chart of code frequencies and matplotlib's [`subplot()`](https://matplotlib.org/api/_as_gen/matplotlib.pyplot.subplot.html) function to put bar charts for the two subplots side by side.\n",
    "- To reduce repeated code, you might want to write a function that can perform this comparison, taking as one of its arguments a column to be compared.\n",
    "\n",
    "Depending on what you observe in your comparison, this will have implications on how you approach your conclusions later in the analysis. If the distributions of non-missing features look similar between the data with many missing values and the data with few or no missing values, then we could argue that simply dropping those points from the analysis won't present a major issue. On the other hand, if the data with many missing values looks very different from the data with few or no missing values, then we should make a note on those data as special. We'll revisit these data later on. **Either way, you should continue your analysis for now using just the subset of the data with few or no missing values.**"
   ]
  },
  {
   "cell_type": "code",
   "execution_count": 13,
   "metadata": {},
   "outputs": [
    {
     "name": "stdout",
     "output_type": "stream",
     "text": [
      "Number of rows that contains missing values: 268012\n"
     ]
    },
    {
     "data": {
      "image/png": "[encoded data removed]",
      "text/plain": [
       "<Figure size 432x288 with 1 Axes>"
      ]
     },
     "metadata": {
      "needs_background": "light"
     },
     "output_type": "display_data"
    }
   ],
   "source": [
    "# How much data is missing in each row of the dataset?\n",
    "missing_row_num = azdias_drop.isnull().sum(axis=1)\n",
    "plt.hist(missing_row_num, bins=50)\n",
    "plt.ylabel('Rows')\n",
    "plt.xlabel('Number of missing Values')\n",
    "plt.title(\"Histogram representing the count of missing values in rows\")\n",
    "print('Number of rows that contains missing values:', azdias_drop.isnull().any(axis=1).sum())"
   ]
  },
  {
   "cell_type": "code",
   "execution_count": 14,
   "metadata": {},
   "outputs": [
    {
     "name": "stdout",
     "output_type": "stream",
     "text": [
      "Number of rows that contains more than 10 missing values: 111068\n"
     ]
    }
   ],
   "source": [
    "# Write code to divide the data into two subsets based on the number of missing\n",
    "# values in each row.\n",
    "print('Number of rows that contains more than 10 missing values:',(missing_row_num > 10).sum()) #We will use 10 as our threshold\n",
    "\n",
    "azdias_drop_below10 = azdias_drop.iloc[missing_row_num[missing_row_num <= 10].index,:]\n",
    "azdias_drop_above10 = azdias_drop.iloc[missing_row_num[missing_row_num > 10].index,:]\n",
    "azdias_drop_miss0 = azdias_drop.iloc[missing_row_num[missing_row_num < 1].index,:]\n"
   ]
  },
  {
   "cell_type": "code",
   "execution_count": 15,
   "metadata": {
    "scrolled": true
   },
   "outputs": [
    {
     "data": {
      "image/png": "[encoded data removed]",
      "text/plain": [
       "<Figure size 432x288 with 1 Axes>"
      ]
     },
     "metadata": {
      "needs_background": "light"
     },
     "output_type": "display_data"
    }
   ],
   "source": [
    "sns.countplot(azdias_drop_below10.isnull().sum(axis=1));"
   ]
  },
  {
   "cell_type": "code",
   "execution_count": 16,
   "metadata": {},
   "outputs": [
    {
     "data": {
      "image/png": "[encoded data removed]",
      "text/plain": [
       "<Figure size 1080x2160 with 28 Axes>"
      ]
     },
     "metadata": {
      "needs_background": "light"
     },
     "output_type": "display_data"
    }
   ],
   "source": [
    "# Compare the distribution of values for at least five columns where there are\n",
    "# no or few missing values, between the two subsets.\n",
    "fig, axes = plt.subplots(nrows=7, ncols=4, figsize=(15,30))\n",
    "fig.subplots_adjust(hspace = 1, wspace=.3)\n",
    "n=0\n",
    "sns.set(style=\"darkgrid\")\n",
    "for column in azdias_drop.columns[0:7]:\n",
    "    sns.countplot(azdias_drop_miss0.loc[:, column], ax=axes[n,0])\n",
    "    axes[n,0].set_title('Data with Zero missing per row')\n",
    "    sns.countplot(azdias_drop_below10.loc[:, column], ax=axes[n,1])\n",
    "    axes[n,1].set_title('Data with <10 missing per row')\n",
    "    sns.countplot(azdias_drop_above10.loc[:, column], ax=axes[n,2])\n",
    "    axes[n,2].set_title('Data with >10 missing per row')\n",
    "    sns.countplot(azdias_drop.loc[:, column], ax=axes[n,3])\n",
    "    axes[n,3].set_title('All the Data')\n",
    "\n",
    "    n+=1"
   ]
  },
  {
   "cell_type": "code",
   "execution_count": 17,
   "metadata": {},
   "outputs": [
    {
     "name": "stdout",
     "output_type": "stream",
     "text": [
      "Shape of azdias data we will use: (780153, 79)\n"
     ]
    }
   ],
   "source": [
    "print('Shape of azdias data we will use:',azdias_drop_below10.shape)"
   ]
  },
  {
   "cell_type": "markdown",
   "metadata": {},
   "source": [
    "#### Discussion 1.1.3: Assess Missing Data in Each Row\n",
    "\n",
    "- Number of rows that contains missing values: 268012\n",
    "- Number of rows that contains more than 10 missing values: 111068\n",
    "- Number of rows that contains less than or equal 10 missing values: 780153   \n",
    "from the graphs above we can see that few columns with similar distributions, so we can conclude that alot of missing values are different from the data with few or now missing values."
   ]
  },
  {
   "cell_type": "markdown",
   "metadata": {},
   "source": [
    "### Step 1.2: Select and Re-Encode Features\n",
    "\n",
    "Checking for missing data isn't the only way in which you can prepare a dataset for analysis. Since the unsupervised learning techniques to be used will only work on data that is encoded numerically, you need to make a few encoding changes or additional assumptions to be able to make progress. In addition, while almost all of the values in the dataset are encoded using numbers, not all of them represent numeric values. Check the third column of the feature summary (`feat_info`) for a summary of types of measurement.\n",
    "- For numeric and interval data, these features can be kept without changes.\n",
    "- Most of the variables in the dataset are ordinal in nature. While ordinal values may technically be non-linear in spacing, make the simplifying assumption that the ordinal variables can be treated as being interval in nature (that is, kept without any changes).\n",
    "- Special handling may be necessary for the remaining two variable types: categorical, and 'mixed'.\n",
    "\n",
    "In the first two parts of this sub-step, you will perform an investigation of the categorical and mixed-type features and make a decision on each of them, whether you will keep, drop, or re-encode each. Then, in the last part, you will create a new data frame with only the selected and engineered columns.\n",
    "\n",
    "Data wrangling is often the trickiest part of the data analysis process, and there's a lot of it to be done here. But stick with it: once you're done with this step, you'll be ready to get to the machine learning parts of the project!"
   ]
  },
  {
   "cell_type": "code",
   "execution_count": 18,
   "metadata": {},
   "outputs": [
    {
     "name": "stdout",
     "output_type": "stream",
     "text": [
      "There are 21 feature in categorical type\n",
      "There are 49 feature in ordinal type\n",
      "There are 7 feature in numeric type\n",
      "There are 7 feature in mixed type\n",
      "There are 1 feature in interval type\n"
     ]
    }
   ],
   "source": [
    "# How many features are there of each data type?\n",
    "types = list(feat_info['type'].unique())\n",
    "for i in types:\n",
    "    print('There are {} feature in {} type'.format( (feat_info['type'] == i).sum(), i))\n",
    "# Or we can use :\n",
    "#feat_info.groupby('type').count()\n"
   ]
  },
  {
   "cell_type": "markdown",
   "metadata": {},
   "source": [
    "#### Step 1.2.1: Re-Encode Categorical Features\n",
    "\n",
    "For categorical data, you would ordinarily need to encode the levels as dummy variables. Depending on the number of categories, perform one of the following:\n",
    "- For binary (two-level) categoricals that take numeric values, you can keep them without needing to do anything.\n",
    "- There is one binary variable that takes on non-numeric values. For this one, you need to re-encode the values as numbers or create a dummy variable.\n",
    "- For multi-level categoricals (three or more values), you can choose to encode the values using multiple dummy variables (e.g. via [OneHotEncoder](http://scikit-learn.org/stable/modules/generated/sklearn.preprocessing.OneHotEncoder.html)), or (to keep things straightforward) just drop them from the analysis. As always, document your choices in the Discussion section."
   ]
  },
  {
   "cell_type": "code",
   "execution_count": 19,
   "metadata": {},
   "outputs": [
    {
     "name": "stdout",
     "output_type": "stream",
     "text": [
      "Unique values in binary categoricals :\n",
      "in: ANREDE_KZ , unique values:  [2 1]\n",
      "in: GREEN_AVANTGARDE , unique values:  [0 1]\n",
      "in: SOHO_KZ , unique values:  [1. 0.]\n",
      "in: VERS_TYP , unique values:  [ 2.  1. nan]\n",
      "in: OST_WEST_KZ , unique values:  ['W' 'O']\n"
     ]
    },
    {
     "data": {
      "text/plain": [
       "ANREDE_KZ            2\n",
       "CJT_GESAMTTYP        6\n",
       "FINANZTYP            6\n",
       "GFK_URLAUBERTYP     12\n",
       "GREEN_AVANTGARDE     2\n",
       "LP_FAMILIE_FEIN     11\n",
       "LP_FAMILIE_GROB      5\n",
       "LP_STATUS_FEIN      10\n",
       "LP_STATUS_GROB       5\n",
       "NATIONALITAET_KZ     3\n",
       "SHOPPER_TYP          4\n",
       "SOHO_KZ              2\n",
       "VERS_TYP             2\n",
       "ZABEOTYP             6\n",
       "GEBAEUDETYP          7\n",
       "OST_WEST_KZ          2\n",
       "CAMEO_DEUG_2015      9\n",
       "CAMEO_DEU_2015      44\n",
       "dtype: int64"
      ]
     },
     "execution_count": 19,
     "metadata": {},
     "output_type": "execute_result"
    }
   ],
   "source": [
    "# Assess categorical variables: which are binary, which are multi-level, and\n",
    "# which one needs to be re-encoded?\n",
    "type_categorical = list(feat_info[feat_info['type'] == 'categorical']['attribute'].values)\n",
    "\n",
    "# categoricals in our dataset\n",
    "type_categorical_exist = [i for i in type_categorical if i in azdias_drop_below10.columns]\n",
    "\n",
    "# Binary categoricals\n",
    "type_categorical_exist_binary = [i for i in type_categorical_exist if azdias_drop_below10[i].nunique() == 2 ]\n",
    "\n",
    "print('Unique values in binary categoricals :')\n",
    "for i in type_categorical_exist_binary:\n",
    "    print('in:', i, ', unique values: ', azdias_drop_below10[i].unique())\n",
    "    \n",
    "# Multi-level categoricals\n",
    "type_categorical_exist_multi = [i for i in type_categorical_exist if azdias_drop_below10[i].nunique() > 2 ]\n",
    "\n",
    "azdias_drop_below10[type_categorical_exist].nunique()"
   ]
  },
  {
   "cell_type": "code",
   "execution_count": 20,
   "metadata": {},
   "outputs": [],
   "source": [
    "azdias_clean = azdias_drop_below10.copy()"
   ]
  },
  {
   "cell_type": "code",
   "execution_count": 21,
   "metadata": {},
   "outputs": [
    {
     "name": "stdout",
     "output_type": "stream",
     "text": [
      "Unique values in OST_WEST_KZ: [0 1]\n"
     ]
    }
   ],
   "source": [
    "# 1 - convert ['W' 'O'] to [ 0 , 1 ] in OST_WEST_KZ\n",
    "azdias_clean['OST_WEST_KZ'] = azdias_clean['OST_WEST_KZ'].replace('W', 0).replace('O', 1)\n",
    "print('Unique values in OST_WEST_KZ:', azdias_clean['OST_WEST_KZ'].unique())"
   ]
  },
  {
   "cell_type": "code",
   "execution_count": 22,
   "metadata": {},
   "outputs": [
    {
     "data": {
      "text/plain": [
       "(780153, 66)"
      ]
     },
     "execution_count": 22,
     "metadata": {},
     "output_type": "execute_result"
    }
   ],
   "source": [
    "# 2 - Removing all Multi-level categoricals \n",
    "azdias_clean=azdias_clean.drop(type_categorical_exist_multi, axis=1)\n",
    "azdias_clean.shape"
   ]
  },
  {
   "cell_type": "markdown",
   "metadata": {},
   "source": [
    "#### Discussion 1.2.1: Re-Encode Categorical Features\n",
    "\n",
    "1 - Encoded one binary variable (OST_WEST_KZ) that takes on non-numeric values ['W' 'O'] to [ 0 , 1 ]   \n",
    "2 - Dropped all Multi-level categoricals\n"
   ]
  },
  {
   "cell_type": "markdown",
   "metadata": {},
   "source": [
    "#### Step 1.2.2: Engineer Mixed-Type Features\n",
    "\n",
    "There are a handful of features that are marked as \"mixed\" in the feature summary that require special treatment in order to be included in the analysis. There are two in particular that deserve attention; the handling of the rest are up to your own choices:\n",
    "- \"PRAEGENDE_JUGENDJAHRE\" combines information on three dimensions: generation by decade, movement (mainstream vs. avantgarde), and nation (east vs. west). While there aren't enough levels to disentangle east from west, you should create two new variables to capture the other two dimensions: an interval-type variable for decade, and a binary variable for movement.\n",
    "- \"CAMEO_INTL_2015\" combines information on two axes: wealth and life stage. Break up the two-digit codes by their 'tens'-place and 'ones'-place digits into two new ordinal variables (which, for the purposes of this project, is equivalent to just treating them as their raw numeric values).\n",
    "- If you decide to keep or engineer new features around the other mixed-type features, make sure you note your steps in the Discussion section.\n",
    "\n",
    "Be sure to check `Data_Dictionary.md` for the details needed to finish these tasks."
   ]
  },
  {
   "cell_type": "code",
   "execution_count": 23,
   "metadata": {},
   "outputs": [
    {
     "name": "stdout",
     "output_type": "stream",
     "text": [
      "Shape befor engineering Mixed-Type Features: (780153, 66)\n"
     ]
    }
   ],
   "source": [
    "azdias_mixed = azdias_clean.copy()\n",
    "print('Shape befor engineering Mixed-Type Features:', azdias_mixed.shape)"
   ]
  },
  {
   "cell_type": "code",
   "execution_count": 24,
   "metadata": {},
   "outputs": [],
   "source": [
    "# Investigate \"PRAEGENDE_JUGENDJAHRE\" and engineer two new variables.\n",
    "type_mixed = list(feat_info[feat_info['type'] == 'mixed']['attribute'].values)\n",
    "type_mixed_exist = [i for i in type_mixed if i in azdias_mixed.columns]\n",
    "\n",
    "#Extract mainstream and avantgarde\n",
    "mainstream = [1,3,5,8,10,12,14]\n",
    "avantgarde = [2,4,6,7,9,11,13,15]\n",
    "def min_ava(x):\n",
    "    if x in mainstream:\n",
    "        return 1\n",
    "    elif x in avantgarde:\n",
    "        return 0\n",
    "    else:\n",
    "        return x\n",
    "    \n",
    "#create new column for mainstream or avantgarde\n",
    "azdias_mixed['PRAEGENDE_JUGENDJAHRE_MAINSTREAM_AVANTGARDE'] = azdias_mixed['PRAEGENDE_JUGENDJAHRE'].apply(min_ava)\n",
    "\n",
    "#Extract decade\n",
    "y = [40,40,50,50,60,60,60,70,70,80,80,80,80,90,90]\n",
    "x = list(range(1,16))\n",
    "decade = pd.Series(y, index = x)\n",
    "\n",
    "#create new column for Decade\n",
    "azdias_mixed['PRAEGENDE_JUGENDJAHRE_DECADE'] = azdias_mixed['PRAEGENDE_JUGENDJAHRE'].map(decade)"
   ]
  },
  {
   "cell_type": "code",
   "execution_count": 25,
   "metadata": {},
   "outputs": [],
   "source": [
    "# Investigate \"CAMEO_INTL_2015\" and engineer two new variables.\n",
    "wealth = {'11':1, '12':1, '13':1, '14':1, '15':1,\n",
    "          '21':2, '22':2, '23':2, '24':2, '25':2,\n",
    "          '31':3, '32':3, '33':3, '34':3, '35':3,\n",
    "          '41':4, '42':4, '43':4, '44':4, '45':4,\n",
    "          '51':5, '52':5, '53':5, '54':5, '55':5}\n",
    "\n",
    "life_stage = {'11':1, '12':2, '13':3, '14':4, '15':5,\n",
    "              '21':1, '22':2, '23':3, '24':4, '25':5,\n",
    "              '31':1, '32':2, '33':3, '34':4, '35':5,\n",
    "              '41':1, '42':2, '43':3, '44':4, '45':5,\n",
    "              '51':1, '52':2, '53':3, '54':4, '55':5}\n",
    "\n",
    "#create new column for wealth\n",
    "azdias_mixed['CAMEO_INTL_2015_WEALTH'] = azdias_mixed['CAMEO_INTL_2015'].map(wealth)\n",
    "\n",
    "#create new column for life stage\n",
    "azdias_mixed['CAMEO_INTL_2015_LIIFE_STAGE'] = azdias_mixed['CAMEO_INTL_2015'].map(life_stage)"
   ]
  },
  {
   "cell_type": "code",
   "execution_count": 26,
   "metadata": {},
   "outputs": [
    {
     "name": "stdout",
     "output_type": "stream",
     "text": [
      "Shape after engineering Mixed-Type Features: (780153, 67)\n"
     ]
    }
   ],
   "source": [
    "#drop the orignal columns PRAEGENDE_JUGENDJAHRE and CAMEO_INTL_2015\n",
    "azdias_mixed = azdias_mixed.drop(['CAMEO_INTL_2015', 'PRAEGENDE_JUGENDJAHRE'], axis =1)\n",
    "\n",
    "#drop LP_LEBENSPHASE_FEIN column\n",
    "azdias_mixed = azdias_mixed.drop(['LP_LEBENSPHASE_FEIN'], axis =1)\n",
    "\n",
    "print('Shape after engineering Mixed-Type Features:', azdias_mixed.shape)"
   ]
  },
  {
   "cell_type": "code",
   "execution_count": 27,
   "metadata": {},
   "outputs": [
    {
     "data": {
      "text/plain": [
       "['LP_LEBENSPHASE_GROB', 'WOHNLAGE', 'PLZ8_BAUMAX']"
      ]
     },
     "execution_count": 27,
     "metadata": {},
     "output_type": "execute_result"
    }
   ],
   "source": [
    "#Update type_mixed_exist\n",
    "type_mixed_exist = [i for i in type_mixed if i in azdias_mixed.columns]\n",
    "type_mixed_exist"
   ]
  },
  {
   "cell_type": "code",
   "execution_count": 28,
   "metadata": {},
   "outputs": [
    {
     "name": "stdout",
     "output_type": "stream",
     "text": [
      "Shape after engineering Mixed-Type Features: (780153, 64)\n"
     ]
    }
   ],
   "source": [
    "#drop the remaining mixed columns\n",
    "azdias_mixed.drop(type_mixed_exist, axis =1, inplace=True)\n",
    "print('Shape after engineering Mixed-Type Features:', azdias_mixed.shape)"
   ]
  },
  {
   "cell_type": "markdown",
   "metadata": {},
   "source": [
    "#### Discussion 1.2.2: Engineer Mixed-Type Features\n",
    "\n",
    "\n",
    "    1 - Created two new columns PRAEGENDE_JUGENDJAHRE_MAINSTREAM_AVANTGARDE and PRAEGENDE_JUGENDJAHRE_DECADE and droppe    PRAEGENDE_JUGENDJAHRE     \n",
    "    2 - Created two new columns CAMEO_INTL_2015_WEALTH and CAMEO_INTL_2015_LIIFE_STAGE and dropped CAMEO_INTL_2015 \n",
    "    3 - dropped LP_LEBENSPHASE_FEIN because it has 40 unique value   \n",
    "    then removed the remaining mixed categorical variables"
   ]
  },
  {
   "cell_type": "markdown",
   "metadata": {},
   "source": [
    "#### Step 1.2.3: Complete Feature Selection\n",
    "\n",
    "In order to finish this step up, you need to make sure that your data frame now only has the columns that you want to keep. To summarize, the dataframe should consist of the following:\n",
    "- All numeric, interval, and ordinal type columns from the original dataset.\n",
    "- Binary categorical features (all numerically-encoded).\n",
    "- Engineered features from other multi-level categorical features and mixed features.\n",
    "\n",
    "Make sure that for any new columns that you have engineered, that you've excluded the original columns from the final dataset. Otherwise, their values will interfere with the analysis later on the project. For example, you should not keep \"PRAEGENDE_JUGENDJAHRE\", since its values won't be useful for the algorithm: only the values derived from it in the engineered features you created should be retained. As a reminder, your data should only be from **the subset with few or no missing values**."
   ]
  },
  {
   "cell_type": "markdown",
   "metadata": {},
   "source": [
    "### Step 1.3: Create a Cleaning Function\n",
    "\n",
    "Even though you've finished cleaning up the general population demographics data, it's important to look ahead to the future and realize that you'll need to perform the same cleaning steps on the customer demographics data. In this substep, complete the function below to execute the main feature selection, encoding, and re-engineering steps you performed above. Then, when it comes to looking at the customer data in Step 3, you can just run this function on that DataFrame to get the trimmed dataset in a single step."
   ]
  },
  {
   "cell_type": "code",
   "execution_count": 29,
   "metadata": {},
   "outputs": [],
   "source": [
    "def clean_data(df):\n",
    "    \"\"\"\n",
    "    Perform feature trimming, re-encoding, and engineering for demographics\n",
    "    data\n",
    "    \n",
    "    INPUT: Demographics DataFrame\n",
    "    OUTPUT: Trimmed and cleaned demographics DataFrame\n",
    "    \"\"\"\n",
    "    \n",
    "    # Put in code here to execute all main cleaning steps:\n",
    "    # convert missing value codes into NaNs, ...\n",
    "    for index in range(feat_info.shape[0]):\n",
    "        try:\n",
    "            if len(eval(feat_info['missing_or_unknown'][index])) == 0:\n",
    "                continue\n",
    "            df[feat_info['attribute'][index]] = df[feat_info['attribute'][index]].replace(eval(feat_info['missing_or_unknown'][index]), np.nan)\n",
    "        except:\n",
    "            lis = feat_info['missing_or_unknown'][index].strip('[').strip(']').split(',')\n",
    "            for i in lis:\n",
    "                try:\n",
    "                    temp = int(i)\n",
    "                    df[feat_info['attribute'][index]] = df[feat_info['attribute'][index]].replace(temp, np.nan)\n",
    "                except:\n",
    "                    df[feat_info['attribute'][index]] = df[feat_info['attribute'][index]].replace(i, np.nan)\n",
    "    \n",
    "    print('Cnvertingmissing value codes into NaNs\\n(exp:85), Shape:',df.shape)\n",
    "    \n",
    "    # remove selected columns and rows, ...\n",
    "    #removing selected columns\n",
    "    missing_columns_num = df.isnull().sum()\n",
    "    outliers_cust = outliers\n",
    "    print('\\nNumber of outliers we will drop: ', outliers_cust.sum())\n",
    "    print('outliers:', outliers_cust[outliers_cust].index)\n",
    "    df = df.drop(outliers_cust[outliers_cust].index, axis = 1)\n",
    "    print('(exp:79)Shape After droping columns: ', df.shape)\n",
    "    \n",
    "    #removing selected rows\n",
    "    missing_row_num = df.isnull().sum(axis=1)\n",
    "    print('\\n(azdias:93795)Number of rows that contains more than 20 missing values:',(missing_row_num > 20).sum())\n",
    "    df = df.iloc[missing_row_num[missing_row_num <= 10].index,:]\n",
    "    print('(exp:(797426, 79)), Shape after removing rows:',df.shape)\n",
    "    \n",
    "    # select, re-encode, and engineer column values.\n",
    "    type_categorical = list(feat_info[feat_info['type'] == 'categorical']['attribute'].values)\n",
    "    # categoricals in our dataset\n",
    "    type_categorical_exist = [i for i in type_categorical if i in df.columns]\n",
    "    # Binary categoricals\n",
    "    type_categorical_exist_binary = [i for i in type_categorical_exist if df[i].nunique() == 2 ]\n",
    "    \n",
    "    print('\\nUnique values in binary categoricals :')\n",
    "    for i in type_categorical_exist_binary:\n",
    "        print('in:', i, ', unique values: ', df[i].unique())\n",
    "    \n",
    "    # Multi-level categoricals\n",
    "    type_categorical_exist_multi = [i for i in type_categorical_exist if df[i].nunique() > 2 ]\n",
    "    \n",
    "    print(df[type_categorical_exist].nunique())\n",
    "    \n",
    "    # 1 - convert ['W' 'O'] to [ 0 , 1 ] in OST_WEST_KZ\n",
    "    df['OST_WEST_KZ'] = df['OST_WEST_KZ'].replace('W', 0).replace('O', 1)\n",
    "    print('\\n(exp:[0 1])Unique values in OST_WEST_KZ:', df['OST_WEST_KZ'].unique())\n",
    "    \n",
    "    # 2 - Removing all Multi-level categoricals \n",
    "    df=df.drop(type_categorical_exist_multi, axis=1)\n",
    "    print('\\n(exp:(780153, 66))Shape befor engineering Mixed-Type Features:', df.shape)\n",
    "          \n",
    " \n",
    "    # Investigate \"PRAEGENDE_JUGENDJAHRE\" and engineer two new variables.\n",
    "    type_mixed = list(feat_info[feat_info['type'] == 'mixed']['attribute'].values)\n",
    "    type_mixed_exist = [i for i in type_mixed if i in df.columns]\n",
    "    #Extract mainstream and avantgarde\n",
    "    mainstream = [1,3,5,8,10,12,14]\n",
    "    avantgarde = [2,4,6,7,9,11,13,15]\n",
    "    def min_ava(x):\n",
    "        if x in mainstream:\n",
    "            return 1\n",
    "        elif x in avantgarde:\n",
    "            return 0\n",
    "        else:\n",
    "            return x\n",
    "        \n",
    "    #create new column for mainstream or avantgarde\n",
    "    df['PRAEGENDE_JUGENDJAHRE_MAINSTREAM_AVANTGARDE'] = df['PRAEGENDE_JUGENDJAHRE'].apply(min_ava)\n",
    "    \n",
    "    #Extract decade\n",
    "    y = [40,40,50,50,60,60,60,70,70,80,80,80,80,90,90]\n",
    "    x = list(range(1,16))\n",
    "    decade = pd.Series(y, index = x)\n",
    "    \n",
    "    #create new column for Decade\n",
    "    df['PRAEGENDE_JUGENDJAHRE_DECADE'] = df['PRAEGENDE_JUGENDJAHRE'].map(decade)\n",
    "    \n",
    "    # Investigate \"CAMEO_INTL_2015\" and engineer two new variables.\n",
    "    wealth = {'11':1, '12':1, '13':1, '14':1, '15':1,\n",
    "              '21':2, '22':2, '23':2, '24':2, '25':2,\n",
    "              '31':3, '32':3, '33':3, '34':3, '35':3,\n",
    "              '41':4, '42':4, '43':4, '44':4, '45':4,\n",
    "              '51':5, '52':5, '53':5, '54':5, '55':5}\n",
    "    life_stage = {'11':1, '12':2, '13':3, '14':4, '15':5,\n",
    "                  '21':1, '22':2, '23':3, '24':4, '25':5,\n",
    "                  '31':1, '32':2, '33':3, '34':4, '35':5,\n",
    "                  '41':1, '42':2, '43':3, '44':4, '45':5,\n",
    "                  '51':1, '52':2, '53':3, '54':4, '55':5}\n",
    "    #create new column for wealth\n",
    "    df['CAMEO_INTL_2015_WEALTH'] = df['CAMEO_INTL_2015'].map(wealth)\n",
    "    #create new column for life stage\n",
    "    df['CAMEO_INTL_2015_LIIFE_STAGE'] = df['CAMEO_INTL_2015'].map(life_stage)\n",
    "    \n",
    "    #drop the orignal columns PRAEGENDE_JUGENDJAHRE and CAMEO_INTL_2015\n",
    "    df = df.drop(['CAMEO_INTL_2015', 'PRAEGENDE_JUGENDJAHRE'], axis =1)\n",
    "    #drop LP_LEBENSPHASE_FEIN column\n",
    "    df = df.drop(['LP_LEBENSPHASE_FEIN'], axis =1)\n",
    "    print('\\n(exp:(780153, 67))Shape after engineering Mixed-Type Features:', df.shape)\n",
    "    \n",
    "    #Update type_mixed_exist\n",
    "    type_mixed_exist = [i for i in type_mixed if i in df.columns]\n",
    "    print(type_mixed_exist)\n",
    "    \n",
    "    #drop the remaining mixed columns\n",
    "    df.drop(type_mixed_exist, axis =1, inplace=True)\n",
    "    print('\\n(exp:(780153, 64))Shape after engineering Mixed-Type Features:', df.shape)\n",
    "    # Return the cleaned dataframe.\n",
    "    return df\n",
    "    "
   ]
  },
  {
   "cell_type": "markdown",
   "metadata": {},
   "source": [
    "## Step 2: Feature Transformation\n",
    "\n",
    "### Step 2.1: Apply Feature Scaling\n",
    "\n",
    "Before we apply dimensionality reduction techniques to the data, we need to perform feature scaling so that the principal component vectors are not influenced by the natural differences in scale for features. Starting from this part of the project, you'll want to keep an eye on the [API reference page for sklearn](http://scikit-learn.org/stable/modules/classes.html) to help you navigate to all of the classes and functions that you'll need. In this substep, you'll need to check the following:\n",
    "\n",
    "- sklearn requires that data not have missing values in order for its estimators to work properly. So, before applying the scaler to your data, make sure that you've cleaned the DataFrame of the remaining missing values. This can be as simple as just removing all data points with missing data, or applying an [Imputer](http://scikit-learn.org/stable/modules/generated/sklearn.preprocessing.Imputer.html) to replace all missing values. You might also try a more complicated procedure where you temporarily remove missing values in order to compute the scaling parameters before re-introducing those missing values and applying imputation. Think about how much missing data you have and what possible effects each approach might have on your analysis, and justify your decision in the discussion section below.\n",
    "- For the actual scaling function, a [StandardScaler](http://scikit-learn.org/stable/modules/generated/sklearn.preprocessing.StandardScaler.html) instance is suggested, scaling each feature to mean 0 and standard deviation 1.\n",
    "- For these classes, you can make use of the `.fit_transform()` method to both fit a procedure to the data as well as apply the transformation to the data at the same time. Don't forget to keep the fit sklearn objects handy, since you'll be applying them to the customer demographics data towards the end of the project."
   ]
  },
  {
   "cell_type": "code",
   "execution_count": 30,
   "metadata": {},
   "outputs": [
    {
     "data": {
      "text/plain": [
       "(780153, 64)"
      ]
     },
     "execution_count": 30,
     "metadata": {},
     "output_type": "execute_result"
    }
   ],
   "source": [
    "azdias_scale = azdias_mixed.copy()\n",
    "azdias_scale.shape"
   ]
  },
  {
   "cell_type": "code",
   "execution_count": 31,
   "metadata": {},
   "outputs": [
    {
     "data": {
      "text/html": [
       "<div>\n",
       "<style scoped>\n",
       "    .dataframe tbody tr th:only-of-type {\n",
       "        vertical-align: middle;\n",
       "    }\n",
       "\n",
       "    .dataframe tbody tr th {\n",
       "        vertical-align: top;\n",
       "    }\n",
       "\n",
       "    .dataframe thead th {\n",
       "        text-align: right;\n",
       "    }\n",
       "</style>\n",
       "<table border=\"1\" class=\"dataframe\">\n",
       "  <thead>\n",
       "    <tr style=\"text-align: right;\">\n",
       "      <th></th>\n",
       "      <th>ALTERSKATEGORIE_GROB</th>\n",
       "      <th>ANREDE_KZ</th>\n",
       "      <th>FINANZ_MINIMALIST</th>\n",
       "      <th>FINANZ_SPARER</th>\n",
       "      <th>FINANZ_VORSORGER</th>\n",
       "      <th>FINANZ_ANLEGER</th>\n",
       "      <th>FINANZ_UNAUFFAELLIGER</th>\n",
       "      <th>FINANZ_HAUSBAUER</th>\n",
       "      <th>GREEN_AVANTGARDE</th>\n",
       "      <th>HEALTH_TYP</th>\n",
       "      <th>...</th>\n",
       "      <th>PLZ8_ANTG4</th>\n",
       "      <th>PLZ8_HHZ</th>\n",
       "      <th>PLZ8_GBZ</th>\n",
       "      <th>ARBEIT</th>\n",
       "      <th>ORTSGR_KLS9</th>\n",
       "      <th>RELAT_AB</th>\n",
       "      <th>PRAEGENDE_JUGENDJAHRE_MAINSTREAM_AVANTGARDE</th>\n",
       "      <th>PRAEGENDE_JUGENDJAHRE_DECADE</th>\n",
       "      <th>CAMEO_INTL_2015_WEALTH</th>\n",
       "      <th>CAMEO_INTL_2015_LIIFE_STAGE</th>\n",
       "    </tr>\n",
       "  </thead>\n",
       "  <tbody>\n",
       "    <tr>\n",
       "      <th>0</th>\n",
       "      <td>1.0</td>\n",
       "      <td>2.0</td>\n",
       "      <td>1.0</td>\n",
       "      <td>5.0</td>\n",
       "      <td>2.0</td>\n",
       "      <td>5.0</td>\n",
       "      <td>4.0</td>\n",
       "      <td>5.0</td>\n",
       "      <td>0.0</td>\n",
       "      <td>3.0</td>\n",
       "      <td>...</td>\n",
       "      <td>1.0</td>\n",
       "      <td>5.0</td>\n",
       "      <td>4.0</td>\n",
       "      <td>3.0</td>\n",
       "      <td>5.0</td>\n",
       "      <td>4.0</td>\n",
       "      <td>1.0</td>\n",
       "      <td>90.0</td>\n",
       "      <td>5.0</td>\n",
       "      <td>1.0</td>\n",
       "    </tr>\n",
       "    <tr>\n",
       "      <th>1</th>\n",
       "      <td>3.0</td>\n",
       "      <td>2.0</td>\n",
       "      <td>1.0</td>\n",
       "      <td>4.0</td>\n",
       "      <td>1.0</td>\n",
       "      <td>2.0</td>\n",
       "      <td>3.0</td>\n",
       "      <td>5.0</td>\n",
       "      <td>1.0</td>\n",
       "      <td>3.0</td>\n",
       "      <td>...</td>\n",
       "      <td>0.0</td>\n",
       "      <td>4.0</td>\n",
       "      <td>4.0</td>\n",
       "      <td>3.0</td>\n",
       "      <td>5.0</td>\n",
       "      <td>2.0</td>\n",
       "      <td>0.0</td>\n",
       "      <td>90.0</td>\n",
       "      <td>2.0</td>\n",
       "      <td>4.0</td>\n",
       "    </tr>\n",
       "    <tr>\n",
       "      <th>2</th>\n",
       "      <td>4.0</td>\n",
       "      <td>2.0</td>\n",
       "      <td>4.0</td>\n",
       "      <td>2.0</td>\n",
       "      <td>5.0</td>\n",
       "      <td>2.0</td>\n",
       "      <td>1.0</td>\n",
       "      <td>2.0</td>\n",
       "      <td>0.0</td>\n",
       "      <td>2.0</td>\n",
       "      <td>...</td>\n",
       "      <td>0.0</td>\n",
       "      <td>3.0</td>\n",
       "      <td>4.0</td>\n",
       "      <td>2.0</td>\n",
       "      <td>3.0</td>\n",
       "      <td>3.0</td>\n",
       "      <td>1.0</td>\n",
       "      <td>70.0</td>\n",
       "      <td>1.0</td>\n",
       "      <td>2.0</td>\n",
       "    </tr>\n",
       "    <tr>\n",
       "      <th>3</th>\n",
       "      <td>3.0</td>\n",
       "      <td>1.0</td>\n",
       "      <td>4.0</td>\n",
       "      <td>3.0</td>\n",
       "      <td>4.0</td>\n",
       "      <td>1.0</td>\n",
       "      <td>3.0</td>\n",
       "      <td>2.0</td>\n",
       "      <td>0.0</td>\n",
       "      <td>3.0</td>\n",
       "      <td>...</td>\n",
       "      <td>1.0</td>\n",
       "      <td>3.0</td>\n",
       "      <td>3.0</td>\n",
       "      <td>4.0</td>\n",
       "      <td>6.0</td>\n",
       "      <td>5.0</td>\n",
       "      <td>1.0</td>\n",
       "      <td>70.0</td>\n",
       "      <td>4.0</td>\n",
       "      <td>3.0</td>\n",
       "    </tr>\n",
       "    <tr>\n",
       "      <th>4</th>\n",
       "      <td>1.0</td>\n",
       "      <td>2.0</td>\n",
       "      <td>3.0</td>\n",
       "      <td>1.0</td>\n",
       "      <td>5.0</td>\n",
       "      <td>2.0</td>\n",
       "      <td>2.0</td>\n",
       "      <td>5.0</td>\n",
       "      <td>0.0</td>\n",
       "      <td>3.0</td>\n",
       "      <td>...</td>\n",
       "      <td>1.0</td>\n",
       "      <td>5.0</td>\n",
       "      <td>5.0</td>\n",
       "      <td>2.0</td>\n",
       "      <td>3.0</td>\n",
       "      <td>3.0</td>\n",
       "      <td>1.0</td>\n",
       "      <td>50.0</td>\n",
       "      <td>5.0</td>\n",
       "      <td>4.0</td>\n",
       "    </tr>\n",
       "  </tbody>\n",
       "</table>\n",
       "<p>5 rows × 64 columns</p>\n",
       "</div>"
      ],
      "text/plain": [
       "   ALTERSKATEGORIE_GROB  ANREDE_KZ  FINANZ_MINIMALIST  FINANZ_SPARER  \\\n",
       "0                   1.0        2.0                1.0            5.0   \n",
       "1                   3.0        2.0                1.0            4.0   \n",
       "2                   4.0        2.0                4.0            2.0   \n",
       "3                   3.0        1.0                4.0            3.0   \n",
       "4                   1.0        2.0                3.0            1.0   \n",
       "\n",
       "   FINANZ_VORSORGER  FINANZ_ANLEGER  FINANZ_UNAUFFAELLIGER  FINANZ_HAUSBAUER  \\\n",
       "0               2.0             5.0                    4.0               5.0   \n",
       "1               1.0             2.0                    3.0               5.0   \n",
       "2               5.0             2.0                    1.0               2.0   \n",
       "3               4.0             1.0                    3.0               2.0   \n",
       "4               5.0             2.0                    2.0               5.0   \n",
       "\n",
       "   GREEN_AVANTGARDE  HEALTH_TYP  ...  PLZ8_ANTG4  PLZ8_HHZ  PLZ8_GBZ  ARBEIT  \\\n",
       "0               0.0         3.0  ...         1.0       5.0       4.0     3.0   \n",
       "1               1.0         3.0  ...         0.0       4.0       4.0     3.0   \n",
       "2               0.0         2.0  ...         0.0       3.0       4.0     2.0   \n",
       "3               0.0         3.0  ...         1.0       3.0       3.0     4.0   \n",
       "4               0.0         3.0  ...         1.0       5.0       5.0     2.0   \n",
       "\n",
       "   ORTSGR_KLS9  RELAT_AB  PRAEGENDE_JUGENDJAHRE_MAINSTREAM_AVANTGARDE  \\\n",
       "0          5.0       4.0                                          1.0   \n",
       "1          5.0       2.0                                          0.0   \n",
       "2          3.0       3.0                                          1.0   \n",
       "3          6.0       5.0                                          1.0   \n",
       "4          3.0       3.0                                          1.0   \n",
       "\n",
       "   PRAEGENDE_JUGENDJAHRE_DECADE  CAMEO_INTL_2015_WEALTH  \\\n",
       "0                          90.0                     5.0   \n",
       "1                          90.0                     2.0   \n",
       "2                          70.0                     1.0   \n",
       "3                          70.0                     4.0   \n",
       "4                          50.0                     5.0   \n",
       "\n",
       "   CAMEO_INTL_2015_LIIFE_STAGE  \n",
       "0                          1.0  \n",
       "1                          4.0  \n",
       "2                          2.0  \n",
       "3                          3.0  \n",
       "4                          4.0  \n",
       "\n",
       "[5 rows x 64 columns]"
      ]
     },
     "execution_count": 31,
     "metadata": {},
     "output_type": "execute_result"
    }
   ],
   "source": [
    "# If you've not yet cleaned the dataset of all NaN values, then investigate and\n",
    "# do that now.\n",
    "imp = SimpleImputer(strategy = 'most_frequent')\n",
    "azdias_scale = pd.DataFrame(imp.fit_transform(azdias_scale), columns = azdias_scale.columns)\n",
    "\n",
    "azdias_scale.head()"
   ]
  },
  {
   "cell_type": "code",
   "execution_count": 32,
   "metadata": {},
   "outputs": [
    {
     "data": {
      "text/html": [
       "<div>\n",
       "<style scoped>\n",
       "    .dataframe tbody tr th:only-of-type {\n",
       "        vertical-align: middle;\n",
       "    }\n",
       "\n",
       "    .dataframe tbody tr th {\n",
       "        vertical-align: top;\n",
       "    }\n",
       "\n",
       "    .dataframe thead th {\n",
       "        text-align: right;\n",
       "    }\n",
       "</style>\n",
       "<table border=\"1\" class=\"dataframe\">\n",
       "  <thead>\n",
       "    <tr style=\"text-align: right;\">\n",
       "      <th></th>\n",
       "      <th>ALTERSKATEGORIE_GROB</th>\n",
       "      <th>ANREDE_KZ</th>\n",
       "      <th>FINANZ_MINIMALIST</th>\n",
       "      <th>FINANZ_SPARER</th>\n",
       "      <th>FINANZ_VORSORGER</th>\n",
       "      <th>FINANZ_ANLEGER</th>\n",
       "      <th>FINANZ_UNAUFFAELLIGER</th>\n",
       "      <th>FINANZ_HAUSBAUER</th>\n",
       "      <th>GREEN_AVANTGARDE</th>\n",
       "      <th>HEALTH_TYP</th>\n",
       "      <th>...</th>\n",
       "      <th>PLZ8_ANTG4</th>\n",
       "      <th>PLZ8_HHZ</th>\n",
       "      <th>PLZ8_GBZ</th>\n",
       "      <th>ARBEIT</th>\n",
       "      <th>ORTSGR_KLS9</th>\n",
       "      <th>RELAT_AB</th>\n",
       "      <th>PRAEGENDE_JUGENDJAHRE_MAINSTREAM_AVANTGARDE</th>\n",
       "      <th>PRAEGENDE_JUGENDJAHRE_DECADE</th>\n",
       "      <th>CAMEO_INTL_2015_WEALTH</th>\n",
       "      <th>CAMEO_INTL_2015_LIIFE_STAGE</th>\n",
       "    </tr>\n",
       "  </thead>\n",
       "  <tbody>\n",
       "    <tr>\n",
       "      <th>0</th>\n",
       "      <td>-1.767651</td>\n",
       "      <td>0.958395</td>\n",
       "      <td>-1.488140</td>\n",
       "      <td>1.539080</td>\n",
       "      <td>-1.045251</td>\n",
       "      <td>1.467273</td>\n",
       "      <td>0.980071</td>\n",
       "      <td>1.326876</td>\n",
       "      <td>-0.531199</td>\n",
       "      <td>1.006277</td>\n",
       "      <td>...</td>\n",
       "      <td>0.422909</td>\n",
       "      <td>1.435790</td>\n",
       "      <td>0.563767</td>\n",
       "      <td>-0.179002</td>\n",
       "      <td>-0.132852</td>\n",
       "      <td>0.679557</td>\n",
       "      <td>0.531199</td>\n",
       "      <td>1.105284</td>\n",
       "      <td>1.170995</td>\n",
       "      <td>-1.249732</td>\n",
       "    </tr>\n",
       "    <tr>\n",
       "      <th>1</th>\n",
       "      <td>0.198089</td>\n",
       "      <td>0.958395</td>\n",
       "      <td>-1.488140</td>\n",
       "      <td>0.866538</td>\n",
       "      <td>-1.771610</td>\n",
       "      <td>-0.569041</td>\n",
       "      <td>0.262544</td>\n",
       "      <td>1.326876</td>\n",
       "      <td>1.882535</td>\n",
       "      <td>1.006277</td>\n",
       "      <td>...</td>\n",
       "      <td>-0.952555</td>\n",
       "      <td>0.405449</td>\n",
       "      <td>0.563767</td>\n",
       "      <td>-0.179002</td>\n",
       "      <td>-0.132852</td>\n",
       "      <td>-0.795517</td>\n",
       "      <td>-1.882535</td>\n",
       "      <td>1.105284</td>\n",
       "      <td>-0.874275</td>\n",
       "      <td>0.763856</td>\n",
       "    </tr>\n",
       "    <tr>\n",
       "      <th>2</th>\n",
       "      <td>1.180959</td>\n",
       "      <td>0.958395</td>\n",
       "      <td>0.688928</td>\n",
       "      <td>-0.478545</td>\n",
       "      <td>1.133828</td>\n",
       "      <td>-0.569041</td>\n",
       "      <td>-1.172510</td>\n",
       "      <td>-0.817895</td>\n",
       "      <td>-0.531199</td>\n",
       "      <td>-0.316158</td>\n",
       "      <td>...</td>\n",
       "      <td>-0.952555</td>\n",
       "      <td>-0.624893</td>\n",
       "      <td>0.563767</td>\n",
       "      <td>-1.182990</td>\n",
       "      <td>-1.003725</td>\n",
       "      <td>-0.057980</td>\n",
       "      <td>0.531199</td>\n",
       "      <td>-0.259737</td>\n",
       "      <td>-1.556031</td>\n",
       "      <td>-0.578536</td>\n",
       "    </tr>\n",
       "    <tr>\n",
       "      <th>3</th>\n",
       "      <td>0.198089</td>\n",
       "      <td>-1.043411</td>\n",
       "      <td>0.688928</td>\n",
       "      <td>0.193996</td>\n",
       "      <td>0.407468</td>\n",
       "      <td>-1.247812</td>\n",
       "      <td>0.262544</td>\n",
       "      <td>-0.817895</td>\n",
       "      <td>-0.531199</td>\n",
       "      <td>1.006277</td>\n",
       "      <td>...</td>\n",
       "      <td>0.422909</td>\n",
       "      <td>-0.624893</td>\n",
       "      <td>-0.339941</td>\n",
       "      <td>0.824987</td>\n",
       "      <td>0.302585</td>\n",
       "      <td>1.417095</td>\n",
       "      <td>0.531199</td>\n",
       "      <td>-0.259737</td>\n",
       "      <td>0.489238</td>\n",
       "      <td>0.092660</td>\n",
       "    </tr>\n",
       "    <tr>\n",
       "      <th>4</th>\n",
       "      <td>-1.767651</td>\n",
       "      <td>0.958395</td>\n",
       "      <td>-0.036761</td>\n",
       "      <td>-1.151087</td>\n",
       "      <td>1.133828</td>\n",
       "      <td>-0.569041</td>\n",
       "      <td>-0.454983</td>\n",
       "      <td>1.326876</td>\n",
       "      <td>-0.531199</td>\n",
       "      <td>1.006277</td>\n",
       "      <td>...</td>\n",
       "      <td>0.422909</td>\n",
       "      <td>1.435790</td>\n",
       "      <td>1.467476</td>\n",
       "      <td>-1.182990</td>\n",
       "      <td>-1.003725</td>\n",
       "      <td>-0.057980</td>\n",
       "      <td>0.531199</td>\n",
       "      <td>-1.624758</td>\n",
       "      <td>1.170995</td>\n",
       "      <td>0.763856</td>\n",
       "    </tr>\n",
       "  </tbody>\n",
       "</table>\n",
       "<p>5 rows × 64 columns</p>\n",
       "</div>"
      ],
      "text/plain": [
       "   ALTERSKATEGORIE_GROB  ANREDE_KZ  FINANZ_MINIMALIST  FINANZ_SPARER  \\\n",
       "0             -1.767651   0.958395          -1.488140       1.539080   \n",
       "1              0.198089   0.958395          -1.488140       0.866538   \n",
       "2              1.180959   0.958395           0.688928      -0.478545   \n",
       "3              0.198089  -1.043411           0.688928       0.193996   \n",
       "4             -1.767651   0.958395          -0.036761      -1.151087   \n",
       "\n",
       "   FINANZ_VORSORGER  FINANZ_ANLEGER  FINANZ_UNAUFFAELLIGER  FINANZ_HAUSBAUER  \\\n",
       "0         -1.045251        1.467273               0.980071          1.326876   \n",
       "1         -1.771610       -0.569041               0.262544          1.326876   \n",
       "2          1.133828       -0.569041              -1.172510         -0.817895   \n",
       "3          0.407468       -1.247812               0.262544         -0.817895   \n",
       "4          1.133828       -0.569041              -0.454983          1.326876   \n",
       "\n",
       "   GREEN_AVANTGARDE  HEALTH_TYP  ...  PLZ8_ANTG4  PLZ8_HHZ  PLZ8_GBZ  \\\n",
       "0         -0.531199    1.006277  ...    0.422909  1.435790  0.563767   \n",
       "1          1.882535    1.006277  ...   -0.952555  0.405449  0.563767   \n",
       "2         -0.531199   -0.316158  ...   -0.952555 -0.624893  0.563767   \n",
       "3         -0.531199    1.006277  ...    0.422909 -0.624893 -0.339941   \n",
       "4         -0.531199    1.006277  ...    0.422909  1.435790  1.467476   \n",
       "\n",
       "     ARBEIT  ORTSGR_KLS9  RELAT_AB  \\\n",
       "0 -0.179002    -0.132852  0.679557   \n",
       "1 -0.179002    -0.132852 -0.795517   \n",
       "2 -1.182990    -1.003725 -0.057980   \n",
       "3  0.824987     0.302585  1.417095   \n",
       "4 -1.182990    -1.003725 -0.057980   \n",
       "\n",
       "   PRAEGENDE_JUGENDJAHRE_MAINSTREAM_AVANTGARDE  PRAEGENDE_JUGENDJAHRE_DECADE  \\\n",
       "0                                     0.531199                      1.105284   \n",
       "1                                    -1.882535                      1.105284   \n",
       "2                                     0.531199                     -0.259737   \n",
       "3                                     0.531199                     -0.259737   \n",
       "4                                     0.531199                     -1.624758   \n",
       "\n",
       "   CAMEO_INTL_2015_WEALTH  CAMEO_INTL_2015_LIIFE_STAGE  \n",
       "0                1.170995                    -1.249732  \n",
       "1               -0.874275                     0.763856  \n",
       "2               -1.556031                    -0.578536  \n",
       "3                0.489238                     0.092660  \n",
       "4                1.170995                     0.763856  \n",
       "\n",
       "[5 rows x 64 columns]"
      ]
     },
     "execution_count": 32,
     "metadata": {},
     "output_type": "execute_result"
    }
   ],
   "source": [
    "# Apply feature scaling to the general population demographics data.\n",
    "scaler = StandardScaler()\n",
    "azdias_scale = pd.DataFrame(scaler.fit_transform(azdias_scale), columns = azdias_scale.columns)\n",
    "\n",
    "azdias_scale.head()\n"
   ]
  },
  {
   "cell_type": "markdown",
   "metadata": {},
   "source": [
    "### Discussion 2.1: Apply Feature Scaling\n",
    "\n",
    "i used StandardScaler to standardized the dataset, then i replaced all the missing values using SimpleImputer that replaces the missing values with the most frequent value."
   ]
  },
  {
   "cell_type": "markdown",
   "metadata": {},
   "source": [
    "### Step 2.2: Perform Dimensionality Reduction\n",
    "\n",
    "On your scaled data, you are now ready to apply dimensionality reduction techniques.\n",
    "\n",
    "- Use sklearn's [PCA](http://scikit-learn.org/stable/modules/generated/sklearn.decomposition.PCA.html) class to apply principal component analysis on the data, thus finding the vectors of maximal variance in the data. To start, you should not set any parameters (so all components are computed) or set a number of components that is at least half the number of features (so there's enough features to see the general trend in variability).\n",
    "- Check out the ratio of variance explained by each principal component as well as the cumulative variance explained. Try plotting the cumulative or sequential values using matplotlib's [`plot()`](https://matplotlib.org/api/_as_gen/matplotlib.pyplot.plot.html) function. Based on what you find, select a value for the number of transformed features you'll retain for the clustering part of the project.\n",
    "- Once you've made a choice for the number of components to keep, make sure you re-fit a PCA instance to perform the decided-on transformation."
   ]
  },
  {
   "cell_type": "code",
   "execution_count": 33,
   "metadata": {},
   "outputs": [],
   "source": [
    "# Apply PCA to the data.\n",
    "pca = PCA()\n",
    "azdias_pca = pca.fit_transform(azdias_scale)"
   ]
  },
  {
   "cell_type": "code",
   "execution_count": 34,
   "metadata": {},
   "outputs": [
    {
     "data": {
      "image/png": "[encoded data removed]",
      "text/plain": [
       "<Figure size 720x432 with 1 Axes>"
      ]
     },
     "metadata": {},
     "output_type": "display_data"
    }
   ],
   "source": [
    "# Investigate the variance accounted for by each principal component.\n",
    "def scree_plot(pca):\n",
    "    '''\n",
    "    Creates a scree plot associated with the principal components \n",
    "    \n",
    "    INPUT: pca - the result of instantian of PCA in scikit learn\n",
    "            \n",
    "    OUTPUT:\n",
    "            None\n",
    "    '''\n",
    "    num_components = len(pca.explained_variance_ratio_)\n",
    "    ind = np.arange(num_components)\n",
    "    vals = pca.explained_variance_ratio_\n",
    " \n",
    "    plt.figure(figsize=(10, 6))\n",
    "    ax = plt.subplot(111)\n",
    "    cumvals = np.cumsum(vals)\n",
    "    ax.bar(ind, vals)\n",
    "    ax.plot(ind, cumvals)\n",
    "    for i in range(num_components):\n",
    "        ax.annotate(r\"%s%%\" % ((str(vals[i]*100)[:4])), (ind[i]+0.2, vals[i]), va=\"bottom\", ha=\"center\", fontsize=12)\n",
    " \n",
    "    ax.xaxis.set_tick_params(width=0)\n",
    "    ax.yaxis.set_tick_params(width=2, length=12)\n",
    " \n",
    "    ax.set_xlabel(\"Principal Component\")\n",
    "    ax.set_ylabel(\"Variance Explained (%)\")\n",
    "    plt.title('Explained Variance Per Principal Component')\n",
    "    \n",
    "scree_plot(pca)"
   ]
  },
  {
   "cell_type": "code",
   "execution_count": 35,
   "metadata": {},
   "outputs": [
    {
     "name": "stdout",
     "output_type": "stream",
     "text": [
      "Variance Explained:  0.879572436868443\n"
     ]
    }
   ],
   "source": [
    "# Re-apply PCA to the data while selecting for number of components to retain.\n",
    "pca = PCA(n_components = 30)\n",
    "azdias_pca = pca.fit_transform(azdias_scale)\n",
    "print('Variance Explained: ',pca.explained_variance_ratio_.sum())"
   ]
  },
  {
   "cell_type": "code",
   "execution_count": 36,
   "metadata": {},
   "outputs": [
    {
     "data": {
      "text/plain": [
       "(30, 64)"
      ]
     },
     "execution_count": 36,
     "metadata": {},
     "output_type": "execute_result"
    }
   ],
   "source": [
    "pd.DataFrame(pca.components_, columns=azdias_scale.columns).shape"
   ]
  },
  {
   "cell_type": "markdown",
   "metadata": {},
   "source": [
    "### Discussion 2.2: Perform Dimensionality Reduction\n",
    "\n",
    "I decided to retain 30 principal components, as it expalains 88% variances while reducing the number of features by 50%."
   ]
  },
  {
   "cell_type": "markdown",
   "metadata": {},
   "source": [
    "### Step 2.3: Interpret Principal Components\n",
    "\n",
    "Now that we have our transformed principal components, it's a nice idea to check out the weight of each variable on the first few components to see if they can be interpreted in some fashion.\n",
    "\n",
    "As a reminder, each principal component is a unit vector that points in the direction of highest variance (after accounting for the variance captured by earlier principal components). The further a weight is from zero, the more the principal component is in the direction of the corresponding feature. If two features have large weights of the same sign (both positive or both negative), then increases in one tend expect to be associated with increases in the other. To contrast, features with different signs can be expected to show a negative correlation: increases in one variable should result in a decrease in the other.\n",
    "\n",
    "- To investigate the features, you should map each weight to their corresponding feature name, then sort the features according to weight. The most interesting features for each principal component, then, will be those at the beginning and end of the sorted list. Use the data dictionary document to help you understand these most prominent features, their relationships, and what a positive or negative value on the principal component might indicate.\n",
    "- You should investigate and interpret feature associations from the first three principal components in this substep. To help facilitate this, you should write a function that you can call at any time to print the sorted list of feature weights, for the *i*-th principal component. This might come in handy in the next step of the project, when you interpret the tendencies of the discovered clusters."
   ]
  },
  {
   "cell_type": "code",
   "execution_count": 37,
   "metadata": {},
   "outputs": [],
   "source": [
    "def map_weights(p, i):\n",
    "    data = pd.DataFrame(p.components_, columns=azdias_scale.columns)\n",
    "    data = data.iloc[i].sort_values(ascending=False)\n",
    "    return data"
   ]
  },
  {
   "cell_type": "code",
   "execution_count": 38,
   "metadata": {},
   "outputs": [
    {
     "name": "stdout",
     "output_type": "stream",
     "text": [
      "PLZ8_ANTG3                0.225521\n",
      "PLZ8_ANTG4                0.217652\n",
      "CAMEO_INTL_2015_WEALTH    0.205360\n",
      "HH_EINKOMMEN_SCORE        0.203003\n",
      "ORTSGR_KLS9               0.196412\n",
      "                            ...   \n",
      "KBA05_GBZ                -0.215960\n",
      "KBA05_ANTG1              -0.217099\n",
      "FINANZ_MINIMALIST        -0.221909\n",
      "PLZ8_ANTG1               -0.225489\n",
      "MOBI_REGIO               -0.229277\n",
      "Name: 0, Length: 64, dtype: float64\n"
     ]
    }
   ],
   "source": [
    "# Map weights for the first principal component to corresponding feature names\n",
    "# and then print the linked values, sorted by weight.\n",
    "# HINT: Try defining a function here or in a new cell that you can reuse in the\n",
    "# other cells.\n",
    "\n",
    "print(map_weights(pca, 0))"
   ]
  },
  {
   "cell_type": "code",
   "execution_count": 39,
   "metadata": {},
   "outputs": [
    {
     "name": "stdout",
     "output_type": "stream",
     "text": [
      "ALTERSKATEGORIE_GROB            0.257347\n",
      "SEMIO_ERL                       0.230371\n",
      "FINANZ_VORSORGER                0.229879\n",
      "SEMIO_LUST                      0.179988\n",
      "RETOURTYP_BK_S                  0.162667\n",
      "                                  ...   \n",
      "SEMIO_PFLICHT                  -0.227685\n",
      "SEMIO_TRADV                    -0.229043\n",
      "FINANZ_SPARER                  -0.232629\n",
      "PRAEGENDE_JUGENDJAHRE_DECADE   -0.239653\n",
      "SEMIO_REL                      -0.255200\n",
      "Name: 1, Length: 64, dtype: float64\n"
     ]
    }
   ],
   "source": [
    "# Map weights for the second principal component to corresponding feature names\n",
    "# and then print the linked values, sorted by weight.\n",
    "\n",
    "print(map_weights(pca, 1))"
   ]
  },
  {
   "cell_type": "code",
   "execution_count": 40,
   "metadata": {},
   "outputs": [
    {
     "name": "stdout",
     "output_type": "stream",
     "text": [
      "SEMIO_VERT           0.345928\n",
      "SEMIO_SOZ            0.262944\n",
      "SEMIO_FAM            0.249041\n",
      "SEMIO_KULT           0.232899\n",
      "FINANZ_MINIMALIST    0.155369\n",
      "                       ...   \n",
      "SEMIO_RAT           -0.217384\n",
      "SEMIO_KRIT          -0.273430\n",
      "SEMIO_DOM           -0.312988\n",
      "SEMIO_KAEM          -0.335855\n",
      "ANREDE_KZ           -0.367914\n",
      "Name: 2, Length: 64, dtype: float64\n"
     ]
    }
   ],
   "source": [
    "# Map weights for the third principal component to corresponding feature names\n",
    "# and then print the linked values, sorted by weight.\n",
    "\n",
    "print(map_weights(pca, 2))"
   ]
  },
  {
   "cell_type": "markdown",
   "metadata": {},
   "source": [
    "### Discussion 2.3: Interpret Principal Components\n",
    "\n",
    "\n",
    "- From the first component we can see that PLZ8_ANTG3 and PLZ8_ANTG4 has a positive correlation, that means Number of 6-10 family houses in the PLZ8 region and Number of 10+ family houses in the PLZ8 region tend to increase together.    \n",
    "    MOBI_REGIO and KBA05_ANTG1 have negative correlation, that means lower share of 1-2 family homes tend to have lower Movement patterns.\n",
    "\n",
    "\n",
    "- From the second component we can see that ALTERSKATEGORIE_GROB and SEMIO_ERL has a positive correlation, that means Estimated age is uniformly distributed with event-oriented Personality typology.\n",
    "\n",
    "\n",
    "- From the third component we can see taht SEMIO_VERT, SEMIO_FAM and SEMIO_SOZ has a positive correlation, that means in the Personality typology the more dreamful personality is the more likely to be family-minded and socially-minded,   \n",
    "SEMIO_KAEM, SEMIO_DOM and SEMIO_KRIT has negative correlation, that means the more combative attitude personality the more dominant-minded and critical-minded, so we can conclude if the person has dreamful personality it is less likely to has combative attitude personality, which really makes sense."
   ]
  },
  {
   "cell_type": "markdown",
   "metadata": {},
   "source": [
    "## Step 3: Clustering\n",
    "\n",
    "### Step 3.1: Apply Clustering to General Population\n",
    "\n",
    "You've assessed and cleaned the demographics data, then scaled and transformed them. Now, it's time to see how the data clusters in the principal components space. In this substep, you will apply k-means clustering to the dataset and use the average within-cluster distances from each point to their assigned cluster's centroid to decide on a number of clusters to keep.\n",
    "\n",
    "- Use sklearn's [KMeans](http://scikit-learn.org/stable/modules/generated/sklearn.cluster.KMeans.html#sklearn.cluster.KMeans) class to perform k-means clustering on the PCA-transformed data.\n",
    "- Then, compute the average difference from each point to its assigned cluster's center. **Hint**: The KMeans object's `.score()` method might be useful here, but note that in sklearn, scores tend to be defined so that larger is better. Try applying it to a small, toy dataset, or use an internet search to help your understanding.\n",
    "- Perform the above two steps for a number of different cluster counts. You can then see how the average distance decreases with an increasing number of clusters. However, each additional cluster provides a smaller net benefit. Use this fact to select a final number of clusters in which to group the data. **Warning**: because of the large size of the dataset, it can take a long time for the algorithm to resolve. The more clusters to fit, the longer the algorithm will take. You should test for cluster counts through at least 10 clusters to get the full picture, but you shouldn't need to test for a number of clusters above about 30.\n",
    "- Once you've selected a final number of clusters to use, re-fit a KMeans instance to perform the clustering operation. Make sure that you also obtain the cluster assignments for the general demographics data, since you'll be using them in the final Step 3.3."
   ]
  },
  {
   "cell_type": "code",
   "execution_count": 41,
   "metadata": {},
   "outputs": [
    {
     "name": "stdout",
     "output_type": "stream",
     "text": [
      "centroid 1 score: 43916868.82177455\n",
      "Time taken for centroid 1 : 0.29694069623947145 min\n",
      "centroid 2 score: 37644302.7372002\n",
      "Time taken for centroid 2 : 0.44654730161031086 min\n",
      "centroid 4 score: 32385708.4040641\n",
      "Time taken for centroid 4 : 0.6480353832244873 min\n",
      "centroid 7 score: 28614716.611382\n",
      "Time taken for centroid 7 : 1.1405725479125977 min\n",
      "centroid 10 score: 26460994.76014593\n",
      "Time taken for centroid 10 : 1.8281794269879659 min\n",
      "centroid 13 score: 25149341.520849086\n",
      "Time taken for centroid 13 : 2.9583105723063152 min\n",
      "centroid 16 score: 24317418.11989697\n",
      "Time taken for centroid 16 : 3.2688002069791158 min\n",
      "centroid 19 score: 23581476.24419108\n",
      "Time taken for centroid 19 : 3.366025706132253 min\n",
      "centroid 22 score: 22430199.10822217\n",
      "Time taken for centroid 22 : 5.762147875626882 min\n",
      "centroid 25 score: 21788422.055094257\n",
      "Time taken for centroid 25 : 5.586338647206625 min\n",
      "centroid 28 score: 21310037.253581464\n",
      "Time taken for centroid 28 : 6.325958283742269 min\n"
     ]
    }
   ],
   "source": [
    "# Over a number of different cluster counts...\n",
    "\n",
    "def get_kmeans(data, center):\n",
    "    model_temp = KMeans(n_clusters=center, n_jobs=-1)\n",
    "    model_temp.fit(data)\n",
    "    score = model_temp.score(data)\n",
    "    \n",
    "    return np.abs(score)\n",
    "\n",
    "centers = [1, 2, 4, 7, 10, 13, 16, 19, 22, 25, 28]\n",
    "scores = list()\n",
    "\n",
    "for i in centers:\n",
    "    s = time.time()\n",
    "    temp = get_kmeans(azdias_pca, i)\n",
    "    print('centroid', i, 'score:', temp)\n",
    "    scores.append(temp)\n",
    "    e = time.time()\n",
    "    print('Time taken for centroid', i, ':', ((e-s)/60), 'min')\n"
   ]
  },
  {
   "cell_type": "code",
   "execution_count": 42,
   "metadata": {},
   "outputs": [
    {
     "data": {
      "image/png": "[encoded data removed]",
      "text/plain": [
       "<Figure size 432x288 with 1 Axes>"
      ]
     },
     "metadata": {},
     "output_type": "display_data"
    }
   ],
   "source": [
    "# Investigate the change in within-cluster distance across number of clusters.\n",
    "# HINT: Use matplotlib's plot function to visualize this relationship.\n",
    "\n",
    "# plotting the score against k\n",
    "plt.plot(centers, scores, marker='.');\n",
    "plt.xlabel('Number of centroids')\n",
    "plt.ylabel('Absolute value of the score result');"
   ]
  },
  {
   "cell_type": "code",
   "execution_count": 43,
   "metadata": {},
   "outputs": [
    {
     "name": "stdout",
     "output_type": "stream",
     "text": [
      "Score: 24606007.636840586\n"
     ]
    }
   ],
   "source": [
    "# Re-fit the k-means model with the selected number of clusters and obtain\n",
    "# cluster predictions for the general population demographics data.\n",
    "model = KMeans(15)\n",
    "k_prediction = model.fit_predict(azdias_pca)\n",
    "print('Score:',np.abs(model.score(azdias_pca)))"
   ]
  },
  {
   "cell_type": "markdown",
   "metadata": {},
   "source": [
    "### Discussion 3.1: Apply Clustering to General Population\n",
    "\n",
    "   \n",
    "From the above elbow curve above, we can see that the score keeps decreasing and there is no obvious elbow.  \n",
    "However, the rate of change of slope starts to decrease at 15 clusters and I choose 15 for the number of clusters."
   ]
  },
  {
   "cell_type": "markdown",
   "metadata": {},
   "source": [
    "### Step 3.2: Apply All Steps to the Customer Data\n",
    "\n",
    "Now that you have clusters and cluster centers for the general population, it's time to see how the customer data maps on to those clusters. Take care to not confuse this for re-fitting all of the models to the customer data. Instead, you're going to use the fits from the general population to clean, transform, and cluster the customer data. In the last step of the project, you will interpret how the general population fits apply to the customer data.\n",
    "\n",
    "- Don't forget when loading in the customers data, that it is semicolon (`;`) delimited.\n",
    "- Apply the same feature wrangling, selection, and engineering steps to the customer demographics using the `clean_data()` function you created earlier. (You can assume that the customer demographics data has similar meaning behind missing data patterns as the general demographics data.)\n",
    "- Use the sklearn objects from the general demographics data, and apply their transformations to the customers data. That is, you should not be using a `.fit()` or `.fit_transform()` method to re-fit the old objects, nor should you be creating new sklearn objects! Carry the data through the feature scaling, PCA, and clustering steps, obtaining cluster assignments for all of the data in the customer demographics data."
   ]
  },
  {
   "cell_type": "code",
   "execution_count": 44,
   "metadata": {},
   "outputs": [
    {
     "name": "stdout",
     "output_type": "stream",
     "text": [
      "Cnvertingmissing value codes into NaNs\n",
      "(exp:85), Shape: (191652, 85)\n",
      "\n",
      "Number of outliers we will drop:  6\n",
      "outliers: Index(['AGER_TYP', 'GEBURTSJAHR', 'TITEL_KZ', 'ALTER_HH', 'KK_KUNDENTYP',\n",
      "       'KBA05_BAUMAX'],\n",
      "      dtype='object')\n",
      "(exp:79)Shape After droping columns:  (191652, 79)\n",
      "\n",
      "(azdias:93795)Number of rows that contains more than 20 missing values: 50012\n",
      "(exp:(797426, 79)), Shape after removing rows: (139068, 79)\n",
      "\n",
      "Unique values in binary categoricals :\n",
      "in: ANREDE_KZ , unique values:  [1 2]\n",
      "in: GREEN_AVANTGARDE , unique values:  [1 0]\n",
      "in: SOHO_KZ , unique values:  [0. 1.]\n",
      "in: VERS_TYP , unique values:  [ 1.  2. nan]\n",
      "in: OST_WEST_KZ , unique values:  ['W' 'O']\n",
      "ANREDE_KZ            2\n",
      "CJT_GESAMTTYP        6\n",
      "FINANZTYP            6\n",
      "GFK_URLAUBERTYP     12\n",
      "GREEN_AVANTGARDE     2\n",
      "LP_FAMILIE_FEIN     11\n",
      "LP_FAMILIE_GROB      5\n",
      "LP_STATUS_FEIN      10\n",
      "LP_STATUS_GROB       5\n",
      "NATIONALITAET_KZ     3\n",
      "SHOPPER_TYP          4\n",
      "SOHO_KZ              2\n",
      "VERS_TYP             2\n",
      "ZABEOTYP             6\n",
      "GEBAEUDETYP          6\n",
      "OST_WEST_KZ          2\n",
      "CAMEO_DEUG_2015      9\n",
      "CAMEO_DEU_2015      44\n",
      "dtype: int64\n",
      "\n",
      "(exp:[0 1])Unique values in OST_WEST_KZ: [0 1]\n",
      "\n",
      "(exp:(780153, 66))Shape befor engineering Mixed-Type Features: (139068, 66)\n",
      "\n",
      "(exp:(780153, 67))Shape after engineering Mixed-Type Features: (139068, 67)\n",
      "['LP_LEBENSPHASE_GROB', 'WOHNLAGE', 'PLZ8_BAUMAX']\n",
      "\n",
      "(exp:(780153, 64))Shape after engineering Mixed-Type Features: (139068, 64)\n",
      "Azdaris cleaned data shape: (780153, 64)\n",
      "Orignal customer data shape: (191652, 85)\n",
      "Customer cleaned data shape: (139068, 64)\n"
     ]
    }
   ],
   "source": [
    "# Load in the customer demographics data.\n",
    "customers = pd.read_csv('Udacity_CUSTOMERS_Subset.csv', sep=';')\n",
    "customers_clean = clean_data(customers)\n",
    "\n",
    "print('Azdaris cleaned data shape:',azdias_scale.shape)\n",
    "print('Orignal customer data shape:',customers.shape)\n",
    "print('Customer cleaned data shape:',customers_clean.shape)"
   ]
  },
  {
   "cell_type": "code",
   "execution_count": null,
   "metadata": {},
   "outputs": [],
   "source": [
    "# Adding GEBAEUDETYP_5.0 column to the customer_clean \n",
    "customers_clean['GEBAEUDETYP_5.0'] = np.zeros(customers_clean.shape[0]) \n",
    "customers_clean.shape"
   ]
  },
  {
   "cell_type": "code",
   "execution_count": 45,
   "metadata": {},
   "outputs": [
    {
     "data": {
      "text/plain": [
       "(139068, 64)"
      ]
     },
     "execution_count": 45,
     "metadata": {},
     "output_type": "execute_result"
    }
   ],
   "source": [
    "# Apply preprocessing, feature transformation, and clustering from the general\n",
    "# demographics onto the customer data, obtaining cluster predictions for the\n",
    "# customer demographics data.\n",
    "imp2 = SimpleImputer()\n",
    "# Using SimpleImputer to fill the missing data\n",
    "customers_clean = pd.DataFrame(imp.transform(customers_clean), columns = customers_clean.columns, index=customers_clean.index)\n",
    "customers_clean.shape"
   ]
  },
  {
   "cell_type": "code",
   "execution_count": 46,
   "metadata": {},
   "outputs": [
    {
     "data": {
      "text/plain": [
       "(139068, 64)"
      ]
     },
     "execution_count": 46,
     "metadata": {},
     "output_type": "execute_result"
    }
   ],
   "source": [
    "# Apply feature scaling to the Customer Data.\n",
    "scaler2 = StandardScaler()\n",
    "customers_clean = pd.DataFrame(scaler.transform(customers_clean), columns =customers_clean.columns, index=customers_clean.index)\n",
    "customers_clean.shape"
   ]
  },
  {
   "cell_type": "code",
   "execution_count": 47,
   "metadata": {},
   "outputs": [
    {
     "data": {
      "text/plain": [
       "(139068, 30)"
      ]
     },
     "execution_count": 47,
     "metadata": {},
     "output_type": "execute_result"
    }
   ],
   "source": [
    "# Apply PCA to the data.\n",
    "customers_clean_pca = pca.transform(customers_clean)\n",
    "customers_clean_pca.shape"
   ]
  },
  {
   "cell_type": "code",
   "execution_count": 48,
   "metadata": {},
   "outputs": [
    {
     "data": {
      "text/plain": [
       "(139068,)"
      ]
     },
     "execution_count": 48,
     "metadata": {},
     "output_type": "execute_result"
    }
   ],
   "source": [
    "# Predict using Kmeans model\n",
    "k_prediction_cust = model.predict(customers_clean_pca)\n",
    "k_prediction_cust.shape"
   ]
  },
  {
   "cell_type": "markdown",
   "metadata": {},
   "source": [
    "### Step 3.3: Compare Customer Data to Demographics Data\n",
    "\n",
    "At this point, you have clustered data based on demographics of the general population of Germany, and seen how the customer data for a mail-order sales company maps onto those demographic clusters. In this final substep, you will compare the two cluster distributions to see where the strongest customer base for the company is.\n",
    "\n",
    "Consider the proportion of persons in each cluster for the general population, and the proportions for the customers. If we think the company's customer base to be universal, then the cluster assignment proportions should be fairly similar between the two. If there are only particular segments of the population that are interested in the company's products, then we should see a mismatch from one to the other. If there is a higher proportion of persons in a cluster for the customer data compared to the general population (e.g. 5% of persons are assigned to a cluster for the general population, but 15% of the customer data is closest to that cluster's centroid) then that suggests the people in that cluster to be a target audience for the company. On the other hand, the proportion of the data in a cluster being larger in the general population than the customer data (e.g. only 2% of customers closest to a population centroid that captures 6% of the data) suggests that group of persons to be outside of the target demographics.\n",
    "\n",
    "Take a look at the following points in this step:\n",
    "\n",
    "- Compute the proportion of data points in each cluster for the general population and the customer data. Visualizations will be useful here: both for the individual dataset proportions, but also to visualize the ratios in cluster representation between groups. Seaborn's [`countplot()`](https://seaborn.pydata.org/generated/seaborn.countplot.html) or [`barplot()`](https://seaborn.pydata.org/generated/seaborn.barplot.html) function could be handy.\n",
    "  - Recall the analysis you performed in step 1.1.3 of the project, where you separated out certain data points from the dataset if they had more than a specified threshold of missing values. If you found that this group was qualitatively different from the main bulk of the data, you should treat this as an additional data cluster in this analysis. Make sure that you account for the number of data points in this subset, for both the general population and customer datasets, when making your computations!\n",
    "- Which cluster or clusters are overrepresented in the customer dataset compared to the general population? Select at least one such cluster and infer what kind of people might be represented by that cluster. Use the principal component interpretations from step 2.3 or look at additional components to help you make this inference. Alternatively, you can use the `.inverse_transform()` method of the PCA and StandardScaler objects to transform centroids back to the original data space and interpret the retrieved values directly.\n",
    "- Perform a similar investigation for the underrepresented clusters. Which cluster or clusters are underrepresented in the customer dataset compared to the general population, and what kinds of people are typified by these clusters?"
   ]
  },
  {
   "cell_type": "code",
   "execution_count": 49,
   "metadata": {},
   "outputs": [
    {
     "data": {
      "image/png": "[encoded data removed]",
      "text/plain": [
       "<Figure size 1440x432 with 2 Axes>"
      ]
     },
     "metadata": {},
     "output_type": "display_data"
    }
   ],
   "source": [
    "# Compare the proportion of data in each cluster for the customer data to the\n",
    "# proportion of data in each cluster for the general population.\n",
    "fig, axs = plt.subplots(ncols = 2, figsize= (20,6))\n",
    "fig.subplots_adjust(hspace=0.5, wspace=0.15)\n",
    "#Customer Data\n",
    "sns.countplot(k_prediction_cust, ax=axs[0])\n",
    "axs[0].set_title('Customer Data')\n",
    "#General Population\n",
    "sns.countplot(k_prediction, ax=axs[1])\n",
    "axs[1].set_title('Demographics Data')\n",
    "plt.show();"
   ]
  },
  {
   "cell_type": "code",
   "execution_count": 53,
   "metadata": {},
   "outputs": [
    {
     "name": "stdout",
     "output_type": "stream",
     "text": [
      "ALTERSKATEGORIE_GROB                            3.285832\n",
      "ANREDE_KZ                                       1.054410\n",
      "FINANZ_MINIMALIST                               4.842093\n",
      "FINANZ_SPARER                                   1.645619\n",
      "FINANZ_VORSORGER                                4.166030\n",
      "                                                 ...    \n",
      "RELAT_AB                                        2.900421\n",
      "PRAEGENDE_JUGENDJAHRE_MAINSTREAM_AVANTGARDE     0.011263\n",
      "PRAEGENDE_JUGENDJAHRE_DECADE                   66.173573\n",
      "CAMEO_INTL_2015_WEALTH                          2.116364\n",
      "CAMEO_INTL_2015_LIIFE_STAGE                     3.615305\n",
      "Length: 64, dtype: float64\n"
     ]
    }
   ],
   "source": [
    "# What kinds of people are part of a cluster that is overrepresented in the\n",
    "# customer data compared to the general population?\n",
    "centroid_high = scaler.inverse_transform(pca.inverse_transform(model.cluster_centers_[14]))\n",
    "print(pd.Series(centroid_high, index = customers_clean.columns))"
   ]
  },
  {
   "cell_type": "code",
   "execution_count": 54,
   "metadata": {},
   "outputs": [
    {
     "data": {
      "text/plain": [
       "PRAEGENDE_JUGENDJAHRE_MAINSTREAM_AVANTGARDE    0.320009\n",
       "OST_WEST_KZ                                    0.277491\n",
       "CAMEO_INTL_2015_LIIFE_STAGE                    0.219952\n",
       "ONLINE_AFFINITAET                              0.183870\n",
       "KBA05_ANTG2                                    0.166203\n",
       "                                                 ...   \n",
       "WOHNDAUER_2008                                -0.212913\n",
       "INNENSTADT                                    -0.283458\n",
       "GREEN_AVANTGARDE                              -0.320009\n",
       "RELAT_AB                                      -0.321372\n",
       "BALLRAUM                                      -0.357908\n",
       "Name: 14, Length: 64, dtype: float64"
      ]
     },
     "execution_count": 54,
     "metadata": {},
     "output_type": "execute_result"
    }
   ],
   "source": [
    "map_weights(pca, 14)"
   ]
  },
  {
   "cell_type": "code",
   "execution_count": 69,
   "metadata": {},
   "outputs": [
    {
     "name": "stdout",
     "output_type": "stream",
     "text": [
      "ALTERSKATEGORIE_GROB                            1.606443\n",
      "ANREDE_KZ                                       1.994692\n",
      "FINANZ_MINIMALIST                               1.128693\n",
      "FINANZ_SPARER                                   4.264945\n",
      "FINANZ_VORSORGER                                2.189028\n",
      "                                                 ...    \n",
      "RELAT_AB                                        3.820299\n",
      "PRAEGENDE_JUGENDJAHRE_MAINSTREAM_AVANTGARDE     0.974084\n",
      "PRAEGENDE_JUGENDJAHRE_DECADE                   86.563621\n",
      "CAMEO_INTL_2015_WEALTH                          4.535800\n",
      "CAMEO_INTL_2015_LIIFE_STAGE                     1.844303\n",
      "Length: 64, dtype: float64\n"
     ]
    }
   ],
   "source": [
    "# What kinds of people are part of a cluster that is underrepresented in the\n",
    "# customer data compared to the general population?\n",
    "centroid_low = scaler.inverse_transform(pca.inverse_transform(model.cluster_centers_[3]))\n",
    "print(pd.Series(centroid_low, index = customers_clean.columns))"
   ]
  },
  {
   "cell_type": "code",
   "execution_count": 70,
   "metadata": {},
   "outputs": [
    {
     "data": {
      "text/plain": [
       "GREEN_AVANTGARDE                               0.398672\n",
       "EWDICHTE                                       0.260216\n",
       "ORTSGR_KLS9                                    0.247025\n",
       "PLZ8_HHZ                                       0.137193\n",
       "ONLINE_AFFINITAET                              0.137138\n",
       "                                                 ...   \n",
       "INNENSTADT                                    -0.218626\n",
       "BALLRAUM                                      -0.233410\n",
       "HH_EINKOMMEN_SCORE                            -0.243420\n",
       "KKK                                           -0.275090\n",
       "PRAEGENDE_JUGENDJAHRE_MAINSTREAM_AVANTGARDE   -0.398672\n",
       "Name: 3, Length: 64, dtype: float64"
      ]
     },
     "execution_count": 70,
     "metadata": {},
     "output_type": "execute_result"
    }
   ],
   "source": [
    "map_weights(pca, 3)"
   ]
  },
  {
   "cell_type": "markdown",
   "metadata": {},
   "source": [
    "### Discussion 3.3: Compare Customer Data to Demographics Data\n",
    "\n",
    "#### From the anaylsis above, it can be seen that\n",
    "\n",
    "##### Cluster 14 is overrepresented in the customers data compared to general population data.\n",
    "\n",
    "- Estimated age is between 40 and 60 years old (ALTERSKATEGORIE_GROB=3.3)\n",
    "- Gender : male (ANREDE_KZ =1.05)\n",
    "- very low financial interest typology (FINANZ_MINIMALIST=4.9)\n",
    "- average Share of unemployment relative to county in which community is contained (RELAT_AB=2.9)\n",
    "- Prosperous Households Wealth Stage Typology(CAMEO_INTL_2015_WEALTH=2.1)\n",
    "- Families With School Age Children Life Stage Typology(CAMEO_INTL_2015_LIIFE_STAGE=3.6)\n",
    "- lower share of 6-10 family homes in the PLZ8 region (PLZ8_ANTG3=1.17)\n",
    "- member of green avantgarde (GREEN_AVANTGARDE=0.98)\n",
    "\n",
    "##### Cluster 3 is underrepresented in the customers data.\n",
    "\n",
    "- Estimated age is < 30 years old (ALTERSKATEGORIE_GROB=1.6)\n",
    "- Gender : female (ANREDE_KZ =1.99)\n",
    "- very high low financial interest typology (FINANZ_MINIMALIST=1.12)\n",
    "- high Share of unemployment relative to county in which community is contained (RELAT_AB=3.8)\n",
    "- Poorer Households Wealth Stage Typology(CAMEO_INTL_2015_WEALTH=4.5)\n",
    "- Pre-Family Couples & Singles Life Stage Typology(CAMEO_INTL_2015_LIIFE_STAGE=1.8)\n",
    "- average share of 6-10 family homes in the PLZ8 region (PLZ8_ANTG3=2.6)\n",
    "- not amember of green avantgarde (GREEN_AVANTGARDE=0.03)"
   ]
  },
  {
   "cell_type": "markdown",
   "metadata": {},
   "source": [
    "> Congratulations on making it this far in the project! Before you finish, make sure to check through the entire notebook from top to bottom to make sure that your analysis follows a logical flow and all of your findings are documented in **Discussion** cells. Once you've checked over all of your work, you should export the notebook as an HTML document to submit for evaluation. You can do this from the menu, navigating to **File -> Download as -> HTML (.html)**. You will submit both that document and this notebook for your project submission."
   ]
  },
  {
   "cell_type": "code",
   "execution_count": null,
   "metadata": {},
   "outputs": [],
   "source": []
  }
 ],
 "metadata": {
  "kernelspec": {
   "display_name": "Python 3",
   "language": "python",
   "name": "python3"
  },
  "language_info": {
   "codemirror_mode": {
    "name": "ipython",
    "version": 3
   },
   "file_extension": ".py",
   "mimetype": "text/x-python",
   "name": "python",
   "nbconvert_exporter": "python",
   "pygments_lexer": "ipython3",
   "version": "3.7.6"
  }
 },
 "nbformat": 4,
 "nbformat_minor": 2
}
